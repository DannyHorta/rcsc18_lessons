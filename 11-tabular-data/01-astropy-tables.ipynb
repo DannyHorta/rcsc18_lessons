{
 "cells": [
  {
   "cell_type": "markdown",
   "metadata": {},
   "source": [
    "# Astropy: Tables"
   ]
  },
  {
   "cell_type": "markdown",
   "metadata": {},
   "source": [
    "\n",
    "<section class=\"objectives panel panel-warning\">\n",
    "<div class=\"panel-heading\">\n",
    "<h2><span class=\"fa fa-certificate\"></span> Objectives</h2>\n",
    "</div>\n",
    "\n",
    "\n",
    "<div class=\"panel-body\">\n",
    "\n",
    "<ul>\n",
    "<li>Create tables</li>\n",
    "<li>Access data in tables</li>\n",
    "<li>Combining tables</li>\n",
    "<li>Aggregation</li>\n",
    "<li>Masking</li>\n",
    "<li>Reading/writing</li>\n",
    "</ul>\n",
    "\n",
    "</div>\n",
    "\n",
    "</section>\n"
   ]
  },
  {
   "cell_type": "markdown",
   "metadata": {},
   "source": [
    "## Documentation"
   ]
  },
  {
   "cell_type": "markdown",
   "metadata": {},
   "source": [
    "For more information about the features presented below, you can read the\n",
    "[astropy.table](http://docs.astropy.org/en/stable/table/index.html) docs."
   ]
  },
  {
   "cell_type": "markdown",
   "metadata": {},
   "source": [
    "## Creating tables"
   ]
  },
  {
   "cell_type": "code",
   "execution_count": 2,
   "metadata": {},
   "outputs": [],
   "source": [
    "from astropy.table import Table\n",
    "import numpy as np\n",
    "\n",
    "t1=Table()\n",
    "t1['name']=['source1','source2','source3']\n",
    "t1['flux']=[1.2,2.2,3.1]"
   ]
  },
  {
   "cell_type": "code",
   "execution_count": 3,
   "metadata": {},
   "outputs": [
    {
     "data": {
      "text/html": [
       "<i>Table length=3</i>\n",
       "<table id=\"table4598813248\" class=\"table-striped table-bordered table-condensed\">\n",
       "<thead><tr><th>name</th><th>flux</th></tr></thead>\n",
       "<thead><tr><th>str7</th><th>float64</th></tr></thead>\n",
       "<tr><td>source1</td><td>1.2</td></tr>\n",
       "<tr><td>source2</td><td>2.2</td></tr>\n",
       "<tr><td>source3</td><td>3.1</td></tr>\n",
       "</table>"
      ],
      "text/plain": [
       "<Table length=3>\n",
       "  name    flux \n",
       "  str7  float64\n",
       "------- -------\n",
       "source1     1.2\n",
       "source2     2.2\n",
       "source3     3.1"
      ]
     },
     "execution_count": 3,
     "metadata": {},
     "output_type": "execute_result"
    }
   ],
   "source": [
    "t1"
   ]
  },
  {
   "cell_type": "code",
   "execution_count": 5,
   "metadata": {},
   "outputs": [
    {
     "data": {
      "text/html": [
       "<i>Table length=3</i>\n",
       "<table id=\"table4598813248\" class=\"table-striped table-bordered table-condensed\">\n",
       "<thead><tr><th>name</th><th>flux</th><th>size</th></tr></thead>\n",
       "<thead><tr><th>str7</th><th>float64</th><th>int64</th></tr></thead>\n",
       "<tr><td>source1</td><td>1.2</td><td>1</td></tr>\n",
       "<tr><td>source2</td><td>2.2</td><td>2</td></tr>\n",
       "<tr><td>source3</td><td>3.1</td><td>5</td></tr>\n",
       "</table>"
      ],
      "text/plain": [
       "<Table length=3>\n",
       "  name    flux   size\n",
       "  str7  float64 int64\n",
       "------- ------- -----\n",
       "source1     1.2     1\n",
       "source2     2.2     2\n",
       "source3     3.1     5"
      ]
     },
     "execution_count": 5,
     "metadata": {},
     "output_type": "execute_result"
    }
   ],
   "source": [
    "t1['size']=[1,2,5]\n",
    "t1"
   ]
  },
  {
   "cell_type": "markdown",
   "metadata": {},
   "source": []
  },
  {
   "cell_type": "code",
   "execution_count": 6,
   "metadata": {},
   "outputs": [
    {
     "data": {
      "text/html": [
       "&lt;Column name=&apos;size&apos; dtype=&apos;int64&apos; length=3&gt;\n",
       "<table>\n",
       "<tr><td>1</td></tr>\n",
       "<tr><td>2</td></tr>\n",
       "<tr><td>5</td></tr>\n",
       "</table>"
      ],
      "text/plain": [
       "<Column name='size' dtype='int64' length=3>\n",
       "1\n",
       "2\n",
       "5"
      ]
     },
     "execution_count": 6,
     "metadata": {},
     "output_type": "execute_result"
    }
   ],
   "source": [
    "t1['size']"
   ]
  },
  {
   "cell_type": "code",
   "execution_count": 7,
   "metadata": {},
   "outputs": [
    {
     "data": {
      "text/plain": [
       "array([1, 2, 5])"
      ]
     },
     "execution_count": 7,
     "metadata": {},
     "output_type": "execute_result"
    }
   ],
   "source": [
    "np.array(t1['size'])"
   ]
  },
  {
   "cell_type": "code",
   "execution_count": 8,
   "metadata": {},
   "outputs": [
    {
     "data": {
      "text/plain": [
       "1"
      ]
     },
     "execution_count": 8,
     "metadata": {},
     "output_type": "execute_result"
    }
   ],
   "source": [
    "t1['size'][0]"
   ]
  },
  {
   "cell_type": "code",
   "execution_count": 9,
   "metadata": {},
   "outputs": [
    {
     "data": {
      "text/html": [
       "<i>Row index=0</i>\n",
       "<table id=\"table4598813248\">\n",
       "<thead><tr><th>name</th><th>flux</th><th>size</th></tr></thead>\n",
       "<thead><tr><th>str7</th><th>float64</th><th>int64</th></tr></thead>\n",
       "<tr><td>source1</td><td>1.2</td><td>1</td></tr>\n",
       "</table>"
      ],
      "text/plain": [
       "<Row index=0>\n",
       "  name    flux   size\n",
       "  str7  float64 int64\n",
       "------- ------- -----\n",
       "source1     1.2     1"
      ]
     },
     "execution_count": 9,
     "metadata": {},
     "output_type": "execute_result"
    }
   ],
   "source": [
    "t1[0]"
   ]
  },
  {
   "cell_type": "code",
   "execution_count": 10,
   "metadata": {},
   "outputs": [
    {
     "data": {
      "text/plain": [
       "1"
      ]
     },
     "execution_count": 10,
     "metadata": {},
     "output_type": "execute_result"
    }
   ],
   "source": [
    "t1[0]['size']"
   ]
  },
  {
   "cell_type": "markdown",
   "metadata": {},
   "source": [
    "## Units in tables"
   ]
  },
  {
   "cell_type": "code",
   "execution_count": 12,
   "metadata": {},
   "outputs": [
    {
     "data": {
      "text/html": [
       "<i>Table length=3</i>\n",
       "<table id=\"table4598813248\" class=\"table-striped table-bordered table-condensed\">\n",
       "<thead><tr><th>name</th><th>flux</th><th>size</th></tr></thead>\n",
       "<thead><tr><th></th><th></th><th>cm</th></tr></thead>\n",
       "<thead><tr><th>str7</th><th>float64</th><th>int64</th></tr></thead>\n",
       "<tr><td>source1</td><td>1.2</td><td>1</td></tr>\n",
       "<tr><td>source2</td><td>2.2</td><td>2</td></tr>\n",
       "<tr><td>source3</td><td>3.1</td><td>5</td></tr>\n",
       "</table>"
      ],
      "text/plain": [
       "<Table length=3>\n",
       "  name    flux   size\n",
       "                  cm \n",
       "  str7  float64 int64\n",
       "------- ------- -----\n",
       "source1     1.2     1\n",
       "source2     2.2     2\n",
       "source3     3.1     5"
      ]
     },
     "execution_count": 12,
     "metadata": {},
     "output_type": "execute_result"
    }
   ],
   "source": [
    "t1['size'].unit = 'cm'\n",
    "t1"
   ]
  },
  {
   "cell_type": "markdown",
   "metadata": {},
   "source": [
    "Some unitful operations will then work:"
   ]
  },
  {
   "cell_type": "code",
   "execution_count": 13,
   "metadata": {},
   "outputs": [
    {
     "data": {
      "text/latex": [
       "$[0.01,~0.02,~0.05] \\; \\mathrm{m}$"
      ],
      "text/plain": [
       "<Quantity [0.01, 0.02, 0.05] m>"
      ]
     },
     "execution_count": 13,
     "metadata": {},
     "output_type": "execute_result"
    }
   ],
   "source": [
    "t1['size'].to('m')"
   ]
  },
  {
   "cell_type": "markdown",
   "metadata": {},
   "source": [
    "However, you may run into unexpected behavior, so if you are planning on using table columns as Quantities, we recommend that you use the ``QTable`` class:"
   ]
  },
  {
   "cell_type": "code",
   "execution_count": 14,
   "metadata": {},
   "outputs": [
    {
     "data": {
      "text/plain": [
       "astropy.table.column.Column"
      ]
     },
     "execution_count": 14,
     "metadata": {},
     "output_type": "execute_result"
    }
   ],
   "source": [
    "type(t1['size'])"
   ]
  },
  {
   "cell_type": "code",
   "execution_count": 31,
   "metadata": {},
   "outputs": [],
   "source": [
    "from astropy.table import QTable\n",
    "qt1=QTable(t1)\n"
   ]
  },
  {
   "cell_type": "code",
   "execution_count": 18,
   "metadata": {},
   "outputs": [
    {
     "data": {
      "text/plain": [
       "astropy.units.quantity.Quantity"
      ]
     },
     "execution_count": 18,
     "metadata": {},
     "output_type": "execute_result"
    }
   ],
   "source": [
    "type(qt1['size'])"
   ]
  },
  {
   "cell_type": "markdown",
   "metadata": {},
   "source": [
    "\n",
    "<section class=\"challenge panel panel-success\">\n",
    "<div class=\"panel-heading\">\n",
    "<h2><span class=\"fa fa-pencil\"></span> Challenge</h2>\n",
    "</div>\n",
    "\n",
    "\n",
    "<div class=\"panel-body\">\n",
    "\n",
    "<ol>\n",
    "<li>Make a table that contains three columns: <code>spectral type</code>, <code>temperature</code>, and <code>radius</code>, and incude 5 rows with fake data (or real data if you like, for example from <a href=\"http://www.atlasoftheuniverse.com/startype.html\">here</a>). Try including units on the columns that can have them.</li>\n",
    "<li>Find the mean temperature and the maximum radius</li>\n",
    "<li>Try and find out how to add and remove rows</li>\n",
    "<li>Add a new column which gives the luminosity (using $L=4\\pi R^2 \\sigma T^4$)</li>\n",
    "</ol>\n",
    "\n",
    "</div>\n",
    "\n",
    "</section>\n"
   ]
  },
  {
   "cell_type": "code",
   "execution_count": 69,
   "metadata": {},
   "outputs": [
    {
     "name": "stdout",
     "output_type": "stream",
     "text": [
      "1000000.0 K\n",
      "7.0 solRad\n"
     ]
    },
    {
     "data": {
      "text/html": [
       "<i>QTable length=7</i>\n",
       "<table id=\"table4598980168\" class=\"table-striped table-bordered table-condensed\">\n",
       "<thead><tr><th>spectral type</th><th>temperature</th><th>radius</th><th>Luminosity</th></tr></thead>\n",
       "<thead><tr><th></th><th>K</th><th>solRad</th><th>solLum</th></tr></thead>\n",
       "<thead><tr><th>str2</th><th>float64</th><th>float64</th><th>float64</th></tr></thead>\n",
       "<tr><td>O5</td><td>1000000.0</td><td>1.5</td><td>2027102121.4181356</td></tr>\n",
       "<tr><td>B3</td><td>200000.0</td><td>3.0</td><td>12973453.577076068</td></tr>\n",
       "<tr><td>A3</td><td>3000000.0</td><td>4.0</td><td>1167610821936.8462</td></tr>\n",
       "<tr><td>G5</td><td>400000.0</td><td>5.0</td><td>576597936.7589364</td></tr>\n",
       "<tr><td>K2</td><td>500000.0</td><td>6.0</td><td>2027102121.4181356</td></tr>\n",
       "<tr><td>B2</td><td>900000.0</td><td>7.0</td><td>28964045951.670887</td></tr>\n",
       "<tr><td>K5</td><td>4300.0</td><td>0.72</td><td>0.15967316182594046</td></tr>\n",
       "</table>"
      ],
      "text/plain": [
       "<QTable length=7>\n",
       "spectral type temperature  radius      Luminosity    \n",
       "                   K       solRad        solLum      \n",
       "     str2       float64   float64       float64      \n",
       "------------- ----------- ------- -------------------\n",
       "           O5   1000000.0     1.5  2027102121.4181356\n",
       "           B3    200000.0     3.0  12973453.577076068\n",
       "           A3   3000000.0     4.0  1167610821936.8462\n",
       "           G5    400000.0     5.0   576597936.7589364\n",
       "           K2    500000.0     6.0  2027102121.4181356\n",
       "           B2    900000.0     7.0  28964045951.670887\n",
       "           K5      4300.0    0.72 0.15967316182594046"
      ]
     },
     "execution_count": 69,
     "metadata": {},
     "output_type": "execute_result"
    }
   ],
   "source": [
    "import numpy as np\n",
    "import astropy.units as u\n",
    "from astropy.table import Table\n",
    "from astropy.table import QTable\n",
    "\n",
    "#creating a QTable from a normal table\n",
    "\n",
    "t2=Table()\n",
    "\n",
    "t2['spectral type']=['O5','B3','A3','G5','K2','B2']\n",
    "t2['temperature']=[1000000,200000,3000000,400000,500000,900000]*u.K\n",
    "t2['radius']=[1.5,3,4,5,6,7]*u.R_sun\n",
    "\n",
    "\n",
    "\n",
    "qt2=QTable(t2)\n",
    "qt2\n",
    "\n",
    "#calculating the mean temperature and max radius\n",
    "\n",
    "# temp=np.array(qt2['temperature'])\n",
    "# mean_temp=sum(temp)/len(temp)\n",
    "# print(mean_temp*u.K)\n",
    "\n",
    "mean_temp=np.mean(qt2['temperature'])\n",
    "print(mean_temp)\n",
    "\n",
    "# rad=np.array(qt2['radius'])\n",
    "# max_rad=max(rad*u)\n",
    "\n",
    "max_rad=np.max(qt2['radius'])\n",
    "print(max_rad)\n",
    "\n",
    "#Adding row with luminosity\n",
    "\n",
    "qt2.add_row({'spectral type': 'K5','temperature':4300*u.K,'radius':0.72*u.R_sun})\n",
    "\n",
    "#to add a row or remove rom in a specific position       qt2.insert_row()  qt2.remove_row()\n",
    "\n",
    "#To add a column with the luminosity, multiplying the values of the other columns\n",
    "\n",
    "from astropy.constants import sigma_sb\n",
    "\n",
    "qt2['Luminosity']=(4*np.pi*qt2['radius']**2*sigma_sb*qt2['temperature']**4).to(u.L_sun)\n",
    "qt2"
   ]
  },
  {
   "cell_type": "code",
   "execution_count": null,
   "metadata": {},
   "outputs": [],
   "source": []
  },
  {
   "cell_type": "code",
   "execution_count": null,
   "metadata": {},
   "outputs": [],
   "source": []
  },
  {
   "cell_type": "code",
   "execution_count": null,
   "metadata": {},
   "outputs": [],
   "source": []
  },
  {
   "cell_type": "markdown",
   "metadata": {},
   "source": [
    "## Iterating over tables"
   ]
  },
  {
   "cell_type": "markdown",
   "metadata": {},
   "source": [
    "It is possible to iterate over rows or over columns. To iterate over rows, simply iterate over the table itself:"
   ]
  },
  {
   "cell_type": "code",
   "execution_count": 70,
   "metadata": {},
   "outputs": [
    {
     "name": "stdout",
     "output_type": "stream",
     "text": [
      "  name  flux size\n",
      "              cm \n",
      "------- ---- ----\n",
      "source1  1.2    1\n",
      "  name  flux size\n",
      "              cm \n",
      "------- ---- ----\n",
      "source2  2.2    2\n",
      "  name  flux size\n",
      "              cm \n",
      "------- ---- ----\n",
      "source3  3.1    5\n"
     ]
    }
   ],
   "source": [
    "for row in t1:\n",
    "    print(row)\n",
    "    "
   ]
  },
  {
   "cell_type": "markdown",
   "metadata": {},
   "source": [
    "Rows can act like dictionaries, so you can access specific columns from a row:"
   ]
  },
  {
   "cell_type": "code",
   "execution_count": 72,
   "metadata": {},
   "outputs": [
    {
     "name": "stdout",
     "output_type": "stream",
     "text": [
      "source1\n",
      "source2\n",
      "source3\n"
     ]
    }
   ],
   "source": [
    "for row in t1:\n",
    "    print(row['name'])\n",
    "    "
   ]
  },
  {
   "cell_type": "markdown",
   "metadata": {},
   "source": [
    "Iterating over columns is also easy:"
   ]
  },
  {
   "cell_type": "code",
   "execution_count": 76,
   "metadata": {},
   "outputs": [
    {
     "name": "stdout",
     "output_type": "stream",
     "text": [
      "source1\n",
      "1.2\n",
      "1\n"
     ]
    }
   ],
   "source": [
    "for colname in t1.colnames:\n",
    "    print(t1[colname][0])"
   ]
  },
  {
   "cell_type": "markdown",
   "metadata": {},
   "source": [
    "Accessing specific rows from a column object can also be done with the item notation:"
   ]
  },
  {
   "cell_type": "code",
   "execution_count": null,
   "metadata": {},
   "outputs": [],
   "source": []
  },
  {
   "cell_type": "markdown",
   "metadata": {},
   "source": [
    "## Joining tables"
   ]
  },
  {
   "cell_type": "code",
   "execution_count": 77,
   "metadata": {},
   "outputs": [],
   "source": [
    "from astropy.table import join"
   ]
  },
  {
   "cell_type": "code",
   "execution_count": 98,
   "metadata": {},
   "outputs": [],
   "source": [
    "t2= Table()\n",
    "t2['name']= ['source1','source 3']\n",
    "t2['flux2']= [1.,9.]"
   ]
  },
  {
   "cell_type": "code",
   "execution_count": 99,
   "metadata": {},
   "outputs": [
    {
     "data": {
      "text/html": [
       "<i>Table length=3</i>\n",
       "<table id=\"table4598813248\" class=\"table-striped table-bordered table-condensed\">\n",
       "<thead><tr><th>name</th><th>flux</th><th>size</th></tr></thead>\n",
       "<thead><tr><th></th><th></th><th>cm</th></tr></thead>\n",
       "<thead><tr><th>str7</th><th>float64</th><th>int64</th></tr></thead>\n",
       "<tr><td>source1</td><td>1.2</td><td>1</td></tr>\n",
       "<tr><td>source2</td><td>2.2</td><td>2</td></tr>\n",
       "<tr><td>source3</td><td>3.1</td><td>5</td></tr>\n",
       "</table>"
      ],
      "text/plain": [
       "<Table length=3>\n",
       "  name    flux   size\n",
       "                  cm \n",
       "  str7  float64 int64\n",
       "------- ------- -----\n",
       "source1     1.2     1\n",
       "source2     2.2     2\n",
       "source3     3.1     5"
      ]
     },
     "execution_count": 99,
     "metadata": {},
     "output_type": "execute_result"
    }
   ],
   "source": [
    "t1"
   ]
  },
  {
   "cell_type": "code",
   "execution_count": 100,
   "metadata": {},
   "outputs": [
    {
     "data": {
      "text/html": [
       "<i>Table length=2</i>\n",
       "<table id=\"table4600438568\" class=\"table-striped table-bordered table-condensed\">\n",
       "<thead><tr><th>name</th><th>flux2</th></tr></thead>\n",
       "<thead><tr><th>str8</th><th>float64</th></tr></thead>\n",
       "<tr><td>source1</td><td>1.0</td></tr>\n",
       "<tr><td>source 3</td><td>9.0</td></tr>\n",
       "</table>"
      ],
      "text/plain": [
       "<Table length=2>\n",
       "  name    flux2 \n",
       "  str8   float64\n",
       "-------- -------\n",
       " source1     1.0\n",
       "source 3     9.0"
      ]
     },
     "execution_count": 100,
     "metadata": {},
     "output_type": "execute_result"
    }
   ],
   "source": [
    "t2"
   ]
  },
  {
   "cell_type": "code",
   "execution_count": 101,
   "metadata": {},
   "outputs": [],
   "source": [
    "t3=join(t1,t2,join_type='inner')"
   ]
  },
  {
   "cell_type": "code",
   "execution_count": 102,
   "metadata": {},
   "outputs": [
    {
     "data": {
      "text/html": [
       "<i>Table length=1</i>\n",
       "<table id=\"table4600438344\" class=\"table-striped table-bordered table-condensed\">\n",
       "<thead><tr><th>name</th><th>flux</th><th>size</th><th>flux2</th></tr></thead>\n",
       "<thead><tr><th></th><th></th><th>cm</th><th></th></tr></thead>\n",
       "<thead><tr><th>str8</th><th>float64</th><th>int64</th><th>float64</th></tr></thead>\n",
       "<tr><td>source1</td><td>1.2</td><td>1</td><td>1.0</td></tr>\n",
       "</table>"
      ],
      "text/plain": [
       "<Table length=1>\n",
       "  name    flux   size  flux2 \n",
       "                  cm         \n",
       "  str8  float64 int64 float64\n",
       "------- ------- ----- -------\n",
       "source1     1.2     1     1.0"
      ]
     },
     "execution_count": 102,
     "metadata": {},
     "output_type": "execute_result"
    }
   ],
   "source": [
    "t3"
   ]
  },
  {
   "cell_type": "markdown",
   "metadata": {},
   "source": [
    "## Masked tables"
   ]
  },
  {
   "cell_type": "code",
   "execution_count": 104,
   "metadata": {},
   "outputs": [
    {
     "ename": "AttributeError",
     "evalue": "'Column' object has no attribute 'mask'",
     "output_type": "error",
     "traceback": [
      "\u001b[0;31m---------------------------------------------------------------------------\u001b[0m",
      "\u001b[0;31mAttributeError\u001b[0m                            Traceback (most recent call last)",
      "\u001b[0;32m<ipython-input-104-cfc7f9c31094>\u001b[0m in \u001b[0;36m<module>\u001b[0;34m()\u001b[0m\n\u001b[0;32m----> 1\u001b[0;31m \u001b[0mt3\u001b[0m\u001b[0;34m[\u001b[0m\u001b[0;34m'flux2'\u001b[0m\u001b[0;34m]\u001b[0m\u001b[0;34m.\u001b[0m\u001b[0mmask\u001b[0m\u001b[0;34m\u001b[0m\u001b[0m\n\u001b[0m",
      "\u001b[0;31mAttributeError\u001b[0m: 'Column' object has no attribute 'mask'"
     ]
    }
   ],
   "source": [
    "t3['flux2'].mask"
   ]
  },
  {
   "cell_type": "code",
   "execution_count": null,
   "metadata": {},
   "outputs": [],
   "source": []
  },
  {
   "cell_type": "markdown",
   "metadata": {},
   "source": [
    "## Slicing\n",
    "\n",
    "Tables can be sliced like Numpy arrays:"
   ]
  },
  {
   "cell_type": "code",
   "execution_count": 108,
   "metadata": {},
   "outputs": [],
   "source": [
    "obs = Table()\n",
    "obs['name']=['M31','M32','M31','M40','M50']\n",
    "obs['mag']=[4,6,8,7,6]"
   ]
  },
  {
   "cell_type": "code",
   "execution_count": 109,
   "metadata": {},
   "outputs": [
    {
     "data": {
      "text/html": [
       "<i>Table length=5</i>\n",
       "<table id=\"table4599819344\" class=\"table-striped table-bordered table-condensed\">\n",
       "<thead><tr><th>name</th><th>mag</th></tr></thead>\n",
       "<thead><tr><th>str3</th><th>int64</th></tr></thead>\n",
       "<tr><td>M31</td><td>4</td></tr>\n",
       "<tr><td>M32</td><td>6</td></tr>\n",
       "<tr><td>M31</td><td>8</td></tr>\n",
       "<tr><td>M40</td><td>7</td></tr>\n",
       "<tr><td>M50</td><td>6</td></tr>\n",
       "</table>"
      ],
      "text/plain": [
       "<Table length=5>\n",
       "name  mag \n",
       "str3 int64\n",
       "---- -----\n",
       " M31     4\n",
       " M32     6\n",
       " M31     8\n",
       " M40     7\n",
       " M50     6"
      ]
     },
     "execution_count": 109,
     "metadata": {},
     "output_type": "execute_result"
    }
   ],
   "source": [
    "obs"
   ]
  },
  {
   "cell_type": "code",
   "execution_count": 112,
   "metadata": {},
   "outputs": [
    {
     "data": {
      "text/html": [
       "<i>Table length=4</i>\n",
       "<table id=\"table4599817888\" class=\"table-striped table-bordered table-condensed\">\n",
       "<thead><tr><th>name</th><th>mag</th></tr></thead>\n",
       "<thead><tr><th>str3</th><th>int64</th></tr></thead>\n",
       "<tr><td>M31</td><td>4</td></tr>\n",
       "<tr><td>M32</td><td>6</td></tr>\n",
       "<tr><td>M31</td><td>8</td></tr>\n",
       "<tr><td>M40</td><td>7</td></tr>\n",
       "</table>"
      ],
      "text/plain": [
       "<Table length=4>\n",
       "name  mag \n",
       "str3 int64\n",
       "---- -----\n",
       " M31     4\n",
       " M32     6\n",
       " M31     8\n",
       " M40     7"
      ]
     },
     "execution_count": 112,
     "metadata": {},
     "output_type": "execute_result"
    }
   ],
   "source": [
    "obs[0:4]"
   ]
  },
  {
   "cell_type": "code",
   "execution_count": 116,
   "metadata": {},
   "outputs": [
    {
     "data": {
      "text/html": [
       "<i>Table length=2</i>\n",
       "<table id=\"table4599475896\" class=\"table-striped table-bordered table-condensed\">\n",
       "<thead><tr><th>name</th><th>mag</th></tr></thead>\n",
       "<thead><tr><th>str3</th><th>int64</th></tr></thead>\n",
       "<tr><td>M31</td><td>8</td></tr>\n",
       "<tr><td>M40</td><td>7</td></tr>\n",
       "</table>"
      ],
      "text/plain": [
       "<Table length=2>\n",
       "name  mag \n",
       "str3 int64\n",
       "---- -----\n",
       " M31     8\n",
       " M40     7"
      ]
     },
     "execution_count": 116,
     "metadata": {},
     "output_type": "execute_result"
    }
   ],
   "source": [
    "obs[obs['mag']>6]"
   ]
  },
  {
   "cell_type": "code",
   "execution_count": 120,
   "metadata": {},
   "outputs": [
    {
     "data": {
      "text/html": [
       "<i>Table length=5</i>\n",
       "<table id=\"table4600268448\" class=\"table-striped table-bordered table-condensed\">\n",
       "<thead><tr><th>mag</th><th>name</th></tr></thead>\n",
       "<thead><tr><th>int64</th><th>str3</th></tr></thead>\n",
       "<tr><td>4</td><td>M31</td></tr>\n",
       "<tr><td>6</td><td>M32</td></tr>\n",
       "<tr><td>8</td><td>M31</td></tr>\n",
       "<tr><td>7</td><td>M40</td></tr>\n",
       "<tr><td>6</td><td>M50</td></tr>\n",
       "</table>"
      ],
      "text/plain": [
       "<Table length=5>\n",
       " mag  name\n",
       "int64 str3\n",
       "----- ----\n",
       "    4  M31\n",
       "    6  M32\n",
       "    8  M31\n",
       "    7  M40\n",
       "    6  M50"
      ]
     },
     "execution_count": 120,
     "metadata": {},
     "output_type": "execute_result"
    }
   ],
   "source": [
    "obs['mag','name']"
   ]
  },
  {
   "cell_type": "code",
   "execution_count": 122,
   "metadata": {},
   "outputs": [
    {
     "data": {
      "text/html": [
       "<i>Table length=5</i>\n",
       "<table id=\"table4599819344\" class=\"table-striped table-bordered table-condensed\">\n",
       "<thead><tr><th>name</th><th>mag</th></tr></thead>\n",
       "<thead><tr><th>str3</th><th>int64</th></tr></thead>\n",
       "<tr><td>M31</td><td>4</td></tr>\n",
       "<tr><td>M32</td><td>6</td></tr>\n",
       "<tr><td>M31</td><td>8</td></tr>\n",
       "<tr><td>M40</td><td>7</td></tr>\n",
       "<tr><td>M50</td><td>6</td></tr>\n",
       "</table>"
      ],
      "text/plain": [
       "<Table length=5>\n",
       "name  mag \n",
       "str3 int64\n",
       "---- -----\n",
       " M31     4\n",
       " M32     6\n",
       " M31     8\n",
       " M40     7\n",
       " M50     6"
      ]
     },
     "execution_count": 122,
     "metadata": {},
     "output_type": "execute_result"
    }
   ],
   "source": [
    "obs"
   ]
  },
  {
   "cell_type": "markdown",
   "metadata": {},
   "source": [
    "\n",
    "<section class=\"challenge panel panel-success\">\n",
    "<div class=\"panel-heading\">\n",
    "<h2><span class=\"fa fa-pencil\"></span> Challenge</h2>\n",
    "</div>\n",
    "\n",
    "\n",
    "<div class=\"panel-body\">\n",
    "\n",
    "<p>Starting from the <code>obs</code> table:</p>\n",
    "<ol>\n",
    "<li>Make a new table that shows every other row, starting with the second row? (that is, the second, fourth, sixth, etc. rows).</li>\n",
    "<li>Make a new table the only contains rows where <code>name</code> is <code>M31</code></li>\n",
    "</ol>\n",
    "\n",
    "</div>\n",
    "\n",
    "</section>\n"
   ]
  },
  {
   "cell_type": "code",
   "execution_count": 130,
   "metadata": {},
   "outputs": [
    {
     "data": {
      "text/html": [
       "<i>Table length=2</i>\n",
       "<table id=\"table4600270128\" class=\"table-striped table-bordered table-condensed\">\n",
       "<thead><tr><th>name</th><th>mag</th></tr></thead>\n",
       "<thead><tr><th>str3</th><th>int64</th></tr></thead>\n",
       "<tr><td>M32</td><td>6</td></tr>\n",
       "<tr><td>M40</td><td>7</td></tr>\n",
       "</table>"
      ],
      "text/plain": [
       "<Table length=2>\n",
       "name  mag \n",
       "str3 int64\n",
       "---- -----\n",
       " M32     6\n",
       " M40     7"
      ]
     },
     "execution_count": 130,
     "metadata": {},
     "output_type": "execute_result"
    }
   ],
   "source": [
    "obs[1::2]"
   ]
  },
  {
   "cell_type": "code",
   "execution_count": 129,
   "metadata": {},
   "outputs": [
    {
     "data": {
      "text/html": [
       "<i>Table length=2</i>\n",
       "<table id=\"table4600267664\" class=\"table-striped table-bordered table-condensed\">\n",
       "<thead><tr><th>name</th><th>mag</th></tr></thead>\n",
       "<thead><tr><th>str3</th><th>int64</th></tr></thead>\n",
       "<tr><td>M31</td><td>4</td></tr>\n",
       "<tr><td>M31</td><td>8</td></tr>\n",
       "</table>"
      ],
      "text/plain": [
       "<Table length=2>\n",
       "name  mag \n",
       "str3 int64\n",
       "---- -----\n",
       " M31     4\n",
       " M31     8"
      ]
     },
     "execution_count": 129,
     "metadata": {},
     "output_type": "execute_result"
    }
   ],
   "source": [
    "obs[obs['name']==['M31']]"
   ]
  },
  {
   "cell_type": "markdown",
   "metadata": {},
   "source": [
    "## Grouping and Aggregation"
   ]
  },
  {
   "cell_type": "code",
   "execution_count": 132,
   "metadata": {},
   "outputs": [],
   "source": [
    "obs_by_name=obs.group_by('name')"
   ]
  },
  {
   "cell_type": "code",
   "execution_count": 136,
   "metadata": {},
   "outputs": [
    {
     "name": "stdout",
     "output_type": "stream",
     "text": [
      "name mag\n",
      "---- ---\n",
      " M31   4\n",
      " M31   8\n",
      "\n",
      "name mag\n",
      "---- ---\n",
      " M32   6\n",
      "\n",
      "name mag\n",
      "---- ---\n",
      " M40   7\n",
      "\n",
      "name mag\n",
      "---- ---\n",
      " M50   6\n",
      "\n"
     ]
    }
   ],
   "source": [
    "for group in obs_by_name.groups:\n",
    "    print(group)\n",
    "    print(\"\")"
   ]
  },
  {
   "cell_type": "code",
   "execution_count": 137,
   "metadata": {},
   "outputs": [
    {
     "data": {
      "text/html": [
       "<i>Table length=4</i>\n",
       "<table id=\"table4600270240\" class=\"table-striped table-bordered table-condensed\">\n",
       "<thead><tr><th>name</th><th>mag</th></tr></thead>\n",
       "<thead><tr><th>str3</th><th>float64</th></tr></thead>\n",
       "<tr><td>M31</td><td>6.0</td></tr>\n",
       "<tr><td>M32</td><td>6.0</td></tr>\n",
       "<tr><td>M40</td><td>7.0</td></tr>\n",
       "<tr><td>M50</td><td>6.0</td></tr>\n",
       "</table>"
      ],
      "text/plain": [
       "<Table length=4>\n",
       "name   mag  \n",
       "str3 float64\n",
       "---- -------\n",
       " M31     6.0\n",
       " M32     6.0\n",
       " M40     7.0\n",
       " M50     6.0"
      ]
     },
     "execution_count": 137,
     "metadata": {},
     "output_type": "execute_result"
    }
   ],
   "source": [
    "obs_by_name.groups.aggregate(np.mean)"
   ]
  },
  {
   "cell_type": "code",
   "execution_count": null,
   "metadata": {},
   "outputs": [],
   "source": []
  },
  {
   "cell_type": "markdown",
   "metadata": {},
   "source": [
    "## Writing data"
   ]
  },
  {
   "cell_type": "code",
   "execution_count": 138,
   "metadata": {},
   "outputs": [],
   "source": [
    "obs.write('obstable.fits')"
   ]
  },
  {
   "cell_type": "code",
   "execution_count": 145,
   "metadata": {},
   "outputs": [],
   "source": [
    "obs.write('obstable.vot',format='votable')"
   ]
  },
  {
   "cell_type": "code",
   "execution_count": 146,
   "metadata": {},
   "outputs": [
    {
     "name": "stdout",
     "output_type": "stream",
     "text": [
      "<?xml version=\"1.0\" encoding=\"utf-8\"?>\r\n",
      "<!-- Produced with astropy.io.votable version 3.0.2\r\n",
      "     http://www.astropy.org/ -->\r\n",
      "<VOTABLE version=\"1.3\" xmlns=\"http://www.ivoa.net/xml/VOTable/v1.3\" xmlns:xsi=\"http://www.w3.org/2001/XMLSchema-instance\" xsi:noNamespaceSchemaLocation=\"http://www.ivoa.net/xml/VOTable/v1.3\">\r\n",
      " <RESOURCE type=\"results\">\r\n",
      "  <TABLE>\r\n",
      "   <FIELD ID=\"name\" arraysize=\"3\" datatype=\"unicodeChar\" name=\"name\"/>\r\n",
      "   <FIELD ID=\"mag\" datatype=\"long\" name=\"mag\"/>\r\n",
      "   <DATA>\r\n",
      "    <TABLEDATA>\r\n",
      "     <TR>\r\n",
      "      <TD>M31</TD>\r\n",
      "      <TD>4</TD>\r\n",
      "     </TR>\r\n",
      "     <TR>\r\n",
      "      <TD>M32</TD>\r\n",
      "      <TD>6</TD>\r\n",
      "     </TR>\r\n",
      "     <TR>\r\n",
      "      <TD>M31</TD>\r\n",
      "      <TD>8</TD>\r\n",
      "     </TR>\r\n",
      "     <TR>\r\n",
      "      <TD>M40</TD>\r\n",
      "      <TD>7</TD>\r\n",
      "     </TR>\r\n",
      "     <TR>\r\n",
      "      <TD>M50</TD>\r\n",
      "      <TD>6</TD>\r\n",
      "     </TR>\r\n",
      "    </TABLEDATA>\r\n",
      "   </DATA>\r\n",
      "  </TABLE>\r\n",
      " </RESOURCE>\r\n",
      "</VOTABLE>\r\n"
     ]
    }
   ],
   "source": [
    "!cat obstable.vot"
   ]
  },
  {
   "cell_type": "code",
   "execution_count": null,
   "metadata": {},
   "outputs": [],
   "source": []
  },
  {
   "cell_type": "code",
   "execution_count": null,
   "metadata": {},
   "outputs": [],
   "source": []
  },
  {
   "cell_type": "markdown",
   "metadata": {},
   "source": [
    "## Reading data"
   ]
  },
  {
   "cell_type": "code",
   "execution_count": null,
   "metadata": {},
   "outputs": [],
   "source": [
    "t4 = Table.read()"
   ]
  },
  {
   "cell_type": "code",
   "execution_count": null,
   "metadata": {},
   "outputs": [],
   "source": []
  },
  {
   "cell_type": "markdown",
   "metadata": {},
   "source": [
    "\n",
    "<section class=\"challenge panel panel-success\">\n",
    "<div class=\"panel-heading\">\n",
    "<h2><span class=\"fa fa-pencil\"></span> Challenge</h2>\n",
    "</div>\n",
    "\n",
    "\n",
    "<div class=\"panel-body\">\n",
    "\n",
    "<p>Using the <code>t4</code> table above:</p>\n",
    "<ol>\n",
    "<li>\n",
    "<p>Make a plot that shows <code>j_m</code>-<code>h_m</code> on the x-axis, and <code>h_m</code>-<code>k_m</code> on the y-axis</p>\n",
    "</li>\n",
    "<li>\n",
    "<p>Make a new table that contains the subset of rows where the <code>j_snr</code>, <code>h_snr</code>, and <code>k_snr</code> columns, which give the signal-to-noise-ratio in the J, H, and K band, are greater than 10, and try and show these points in red in the plot you just made.</p>\n",
    "</li>\n",
    "<li>\n",
    "<p>Make a new table (based on the full table) that contains only the RA, Dec, and the <code>j_m</code>, <code>h_m</code> and <code>k_m</code> columns, then try and write out this catalog into a format that you can read into another software package. For example, try and write out the catalog into CSV format, then read it into a spreadsheet software package (e.g. Excel, Google Docs, Numbers, OpenOffice). You may run into an issue at this point - if so, take a look at https://github.com/astropy/astropy/issues/7357 to see how to fix it.</p>\n",
    "</li>\n",
    "</ol>\n",
    "\n",
    "</div>\n",
    "\n",
    "</section>\n"
   ]
  },
  {
   "cell_type": "code",
   "execution_count": null,
   "metadata": {},
   "outputs": [],
   "source": []
  },
  {
   "cell_type": "code",
   "execution_count": null,
   "metadata": {},
   "outputs": [],
   "source": []
  },
  {
   "cell_type": "code",
   "execution_count": null,
   "metadata": {},
   "outputs": [],
   "source": []
  },
  {
   "cell_type": "code",
   "execution_count": null,
   "metadata": {},
   "outputs": [],
   "source": []
  },
  {
   "cell_type": "code",
   "execution_count": null,
   "metadata": {},
   "outputs": [],
   "source": []
  }
 ],
 "metadata": {
  "kernelspec": {
   "display_name": "Python 3",
   "language": "python",
   "name": "python3"
  },
  "language_info": {
   "codemirror_mode": {
    "name": "ipython",
    "version": 3
   },
   "file_extension": ".py",
   "mimetype": "text/x-python",
   "name": "python",
   "nbconvert_exporter": "python",
   "pygments_lexer": "ipython3",
   "version": "3.6.5"
  }
 },
 "nbformat": 4,
 "nbformat_minor": 1
}

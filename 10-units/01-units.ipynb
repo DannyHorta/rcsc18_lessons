{
 "cells": [
  {
   "cell_type": "markdown",
   "metadata": {},
   "source": [
    "# Units and Quantities\n",
    "\n",
    "## Objectives\n",
    "\n",
    "- Use units\n",
    "- Create functions that accept quantities as arguments\n",
    "- Create new units"
   ]
  },
  {
   "cell_type": "markdown",
   "metadata": {},
   "source": [
    "## Basics\n",
    "\n",
    "How do we define a Quantity and which parts does it have?"
   ]
  },
  {
   "cell_type": "code",
   "execution_count": 1,
   "metadata": {},
   "outputs": [],
   "source": [
    "import astropy.units as u"
   ]
  },
  {
   "cell_type": "code",
   "execution_count": 2,
   "metadata": {},
   "outputs": [
    {
     "name": "stdout",
     "output_type": "stream",
     "text": [
      "26.2 m\n"
     ]
    }
   ],
   "source": [
    "length = 26.2*u.m\n",
    "print(length)"
   ]
  },
  {
   "cell_type": "code",
   "execution_count": 3,
   "metadata": {},
   "outputs": [
    {
     "data": {
      "text/plain": [
       "astropy.units.quantity.Quantity"
      ]
     },
     "execution_count": 3,
     "metadata": {},
     "output_type": "execute_result"
    }
   ],
   "source": [
    "type(length)"
   ]
  },
  {
   "cell_type": "code",
   "execution_count": 4,
   "metadata": {},
   "outputs": [
    {
     "data": {
      "text/plain": [
       "26.2"
      ]
     },
     "execution_count": 4,
     "metadata": {},
     "output_type": "execute_result"
    }
   ],
   "source": [
    "length.value"
   ]
  },
  {
   "cell_type": "code",
   "execution_count": 6,
   "metadata": {},
   "outputs": [
    {
     "data": {
      "text/latex": [
       "$\\mathrm{m}$"
      ],
      "text/plain": [
       "Unit(\"m\")"
      ]
     },
     "execution_count": 6,
     "metadata": {},
     "output_type": "execute_result"
    }
   ],
   "source": [
    "length.unit"
   ]
  },
  {
   "cell_type": "code",
   "execution_count": 7,
   "metadata": {},
   "outputs": [
    {
     "data": {
      "text/plain": [
       "dtype = float64\n",
       "unit = m\n",
       "class = Quantity\n",
       "n_bad = 0"
      ]
     },
     "execution_count": 7,
     "metadata": {},
     "output_type": "execute_result"
    }
   ],
   "source": [
    "length.info"
   ]
  },
  {
   "cell_type": "code",
   "execution_count": null,
   "metadata": {},
   "outputs": [],
   "source": []
  },
  {
   "cell_type": "code",
   "execution_count": null,
   "metadata": {},
   "outputs": [],
   "source": []
  },
  {
   "cell_type": "markdown",
   "metadata": {},
   "source": [
    "Quantities can be converted to other units systems or factors by using `to()`"
   ]
  },
  {
   "cell_type": "code",
   "execution_count": 10,
   "metadata": {},
   "outputs": [
    {
     "name": "stdout",
     "output_type": "stream",
     "text": [
      "-22990000.0 mm\n"
     ]
    }
   ],
   "source": [
    "print(length.to(u.mm))"
   ]
  },
  {
   "cell_type": "markdown",
   "metadata": {},
   "source": [
    "We can do arithmetic operations when the quantities have the compatible units:"
   ]
  },
  {
   "cell_type": "code",
   "execution_count": 9,
   "metadata": {},
   "outputs": [
    {
     "name": "stdout",
     "output_type": "stream",
     "text": [
      "-22990.0 m\n"
     ]
    }
   ],
   "source": [
    "distance_start=10*u.m\n",
    "distance_end=23* u.km\n",
    "length=distance_start-distance_end\n",
    "print(length)"
   ]
  },
  {
   "cell_type": "markdown",
   "metadata": {},
   "source": [
    "Quantities can also be combined, for example to measure speed"
   ]
  },
  {
   "cell_type": "code",
   "execution_count": 15,
   "metadata": {},
   "outputs": [
    {
     "name": "stdout",
     "output_type": "stream",
     "text": [
      "-1532.6666666666667 m / s\n"
     ]
    }
   ],
   "source": [
    "time = 15*u.second\n",
    "speed=length/time\n",
    "print(speed)"
   ]
  },
  {
   "cell_type": "code",
   "execution_count": 17,
   "metadata": {},
   "outputs": [
    {
     "name": "stdout",
     "output_type": "stream",
     "text": [
      "-1532.6666666666667 m / s\n",
      "-1532.6666666666667 m / s\n"
     ]
    }
   ],
   "source": [
    "print(speed.decompose())\n",
    "print(speed.si)"
   ]
  },
  {
   "cell_type": "markdown",
   "metadata": {},
   "source": [
    "\n",
    "<section class=\"challenge panel panel-success\">\n",
    "<div class=\"panel-heading\">\n",
    "<h2><span class=\"fa fa-pencil\"></span> Unit conversions</h2>\n",
    "</div>\n",
    "\n",
    "\n",
    "<div class=\"panel-body\">\n",
    "\n",
    "<ol>\n",
    "<li>Convert the speed in imperial units (miles/hour) using:\n",
    "    <code>from astropy.units import imperial</code></li>\n",
    "<li>Calculate whether a pint is more than half litre.\n",
    "    <em>You can compare quantities as comparing variables.</em>\n",
    "    Something strange? Check what deffinition of <a href=\"https://en.wikipedia.org/wiki/Pint\">pint</a> astropy is using.</li>\n",
    "<li>Does units work with areas? calculate the area of a rectangle of 3 km of side and 5 meter of width. Show them in $m^2$ and convert them to yards$^2$</li>\n",
    "</ol>\n",
    "\n",
    "</div>\n",
    "\n",
    "</section>\n"
   ]
  },
  {
   "cell_type": "code",
   "execution_count": 46,
   "metadata": {},
   "outputs": [
    {
     "name": "stdout",
     "output_type": "stream",
     "text": [
      "-3428.4776902887143 mi / h\n",
      "0.0005000000000000001 m3\n",
      "0.00047317647364150407 m3\n",
      "15000.0 m2\n",
      "17939.8506945162 yd2\n"
     ]
    }
   ],
   "source": [
    "from astropy.units import imperial as imp\n",
    "print(speed.to(imp.mi/u.hour))\n",
    "\n",
    "volume1=0.5*u.liter\n",
    "volume2=1*imp.pint\n",
    "\n",
    "print(volume1.si)\n",
    "print(volume2.si)\n",
    "\n",
    "side=3*u.km\n",
    "width=5*u.m\n",
    "\n",
    "area=side*width\n",
    "print(area.decompose())\n",
    "print(area.to(imp.yard**2))"
   ]
  },
  {
   "cell_type": "markdown",
   "metadata": {},
   "source": [
    "## Composed units\n",
    "\n",
    "Many units are compositions of others, for example, one could create new combinationes for ease of use:"
   ]
  },
  {
   "cell_type": "code",
   "execution_count": 49,
   "metadata": {},
   "outputs": [
    {
     "name": "stdout",
     "output_type": "stream",
     "text": [
      "cm / s\n",
      "-153266.6666666667 cm / s\n"
     ]
    }
   ],
   "source": [
    "cms = u.cm/u.s\n",
    "print(cms)\n",
    "print(speed.to(cms))"
   ]
  },
  {
   "cell_type": "code",
   "execution_count": null,
   "metadata": {},
   "outputs": [],
   "source": []
  },
  {
   "cell_type": "markdown",
   "metadata": {},
   "source": [
    "and others are already a composition:"
   ]
  },
  {
   "cell_type": "code",
   "execution_count": 50,
   "metadata": {},
   "outputs": [
    {
     "data": {
      "text/plain": [
       "[Unit(\"Hz\"), Unit(\"Bq\"), Unit(\"2.7027e-11 Ci\")]"
      ]
     },
     "execution_count": 50,
     "metadata": {},
     "output_type": "execute_result"
    }
   ],
   "source": [
    "(u.s**-1).compose()"
   ]
  },
  {
   "cell_type": "code",
   "execution_count": 52,
   "metadata": {},
   "outputs": [
    {
     "data": {
      "text/plain": [
       "[Unit(\"J\"), Unit(\"1e+07 erg\"), Unit(\"4.58742e+17 Ry\"), Unit(\"6.24151e+18 eV\")]"
      ]
     },
     "execution_count": 52,
     "metadata": {},
     "output_type": "execute_result"
    }
   ],
   "source": [
    "u.joule.compose()"
   ]
  },
  {
   "cell_type": "code",
   "execution_count": null,
   "metadata": {},
   "outputs": [],
   "source": []
  },
  {
   "cell_type": "markdown",
   "metadata": {},
   "source": [
    "Sometime we get *no units* quantitites"
   ]
  },
  {
   "cell_type": "code",
   "execution_count": 57,
   "metadata": {},
   "outputs": [],
   "source": [
    "nounits = 20*u.cm/(1*u.m)\n",
    "nounits= nounits.decompose()"
   ]
  },
  {
   "cell_type": "markdown",
   "metadata": {},
   "source": [
    "What happen if we add a number to this?"
   ]
  },
  {
   "cell_type": "code",
   "execution_count": 59,
   "metadata": {},
   "outputs": [
    {
     "name": "stdout",
     "output_type": "stream",
     "text": [
      " <class 'astropy.units.core.CompositeUnit'>\n"
     ]
    },
    {
     "data": {
      "text/latex": [
       "$3.2 \\; \\mathrm{}$"
      ],
      "text/plain": [
       "<Quantity 3.2>"
      ]
     },
     "execution_count": 59,
     "metadata": {},
     "output_type": "execute_result"
    }
   ],
   "source": [
    "print(nounits.unit,type(nounits.unit))\n",
    "nounits+3"
   ]
  },
  {
   "cell_type": "code",
   "execution_count": null,
   "metadata": {},
   "outputs": [],
   "source": []
  },
  {
   "cell_type": "markdown",
   "metadata": {},
   "source": [
    "## Equivalencies\n",
    "\n",
    "Some conversions are not done by a conversion factor as between miles and kilometers, for example converting between wavelength and frequency."
   ]
  },
  {
   "cell_type": "code",
   "execution_count": 60,
   "metadata": {},
   "outputs": [
    {
     "ename": "UnitConversionError",
     "evalue": "'m' (length) and 'Hz' (frequency) are not convertible",
     "output_type": "error",
     "traceback": [
      "\u001b[0;31m---------------------------------------------------------------------------\u001b[0m",
      "\u001b[0;31mUnitConversionError\u001b[0m                       Traceback (most recent call last)",
      "\u001b[0;32m<ipython-input-60-ddd0b2509216>\u001b[0m in \u001b[0;36m<module>\u001b[0;34m()\u001b[0m\n\u001b[0;32m----> 1\u001b[0;31m \u001b[0;34m(\u001b[0m\u001b[0;36m656.281\u001b[0m\u001b[0;34m*\u001b[0m\u001b[0mu\u001b[0m\u001b[0;34m.\u001b[0m\u001b[0mm\u001b[0m\u001b[0;34m)\u001b[0m\u001b[0;34m.\u001b[0m\u001b[0mto\u001b[0m\u001b[0;34m(\u001b[0m\u001b[0mu\u001b[0m\u001b[0;34m.\u001b[0m\u001b[0mHz\u001b[0m\u001b[0;34m)\u001b[0m\u001b[0;34m\u001b[0m\u001b[0m\n\u001b[0m",
      "\u001b[0;32m~/anaconda3/lib/python3.6/site-packages/astropy/units/quantity.py\u001b[0m in \u001b[0;36mto\u001b[0;34m(self, unit, equivalencies)\u001b[0m\n\u001b[1;32m    845\u001b[0m         \u001b[0;31m# and don't want to slow down this method (esp. the scalar case).\u001b[0m\u001b[0;34m\u001b[0m\u001b[0;34m\u001b[0m\u001b[0m\n\u001b[1;32m    846\u001b[0m         \u001b[0munit\u001b[0m \u001b[0;34m=\u001b[0m \u001b[0mUnit\u001b[0m\u001b[0;34m(\u001b[0m\u001b[0munit\u001b[0m\u001b[0;34m)\u001b[0m\u001b[0;34m\u001b[0m\u001b[0m\n\u001b[0;32m--> 847\u001b[0;31m         \u001b[0;32mreturn\u001b[0m \u001b[0mself\u001b[0m\u001b[0;34m.\u001b[0m\u001b[0m_new_view\u001b[0m\u001b[0;34m(\u001b[0m\u001b[0mself\u001b[0m\u001b[0;34m.\u001b[0m\u001b[0m_to_value\u001b[0m\u001b[0;34m(\u001b[0m\u001b[0munit\u001b[0m\u001b[0;34m,\u001b[0m \u001b[0mequivalencies\u001b[0m\u001b[0;34m)\u001b[0m\u001b[0;34m,\u001b[0m \u001b[0munit\u001b[0m\u001b[0;34m)\u001b[0m\u001b[0;34m\u001b[0m\u001b[0m\n\u001b[0m\u001b[1;32m    848\u001b[0m \u001b[0;34m\u001b[0m\u001b[0m\n\u001b[1;32m    849\u001b[0m     \u001b[0;32mdef\u001b[0m \u001b[0mto_value\u001b[0m\u001b[0;34m(\u001b[0m\u001b[0mself\u001b[0m\u001b[0;34m,\u001b[0m \u001b[0munit\u001b[0m\u001b[0;34m=\u001b[0m\u001b[0;32mNone\u001b[0m\u001b[0;34m,\u001b[0m \u001b[0mequivalencies\u001b[0m\u001b[0;34m=\u001b[0m\u001b[0;34m[\u001b[0m\u001b[0;34m]\u001b[0m\u001b[0;34m)\u001b[0m\u001b[0;34m:\u001b[0m\u001b[0;34m\u001b[0m\u001b[0m\n",
      "\u001b[0;32m~/anaconda3/lib/python3.6/site-packages/astropy/units/quantity.py\u001b[0m in \u001b[0;36m_to_value\u001b[0;34m(self, unit, equivalencies)\u001b[0m\n\u001b[1;32m    817\u001b[0m             \u001b[0mequivalencies\u001b[0m \u001b[0;34m=\u001b[0m \u001b[0mself\u001b[0m\u001b[0;34m.\u001b[0m\u001b[0m_equivalencies\u001b[0m\u001b[0;34m\u001b[0m\u001b[0m\n\u001b[1;32m    818\u001b[0m         return self.unit.to(unit, self.view(np.ndarray),\n\u001b[0;32m--> 819\u001b[0;31m                             equivalencies=equivalencies)\n\u001b[0m\u001b[1;32m    820\u001b[0m \u001b[0;34m\u001b[0m\u001b[0m\n\u001b[1;32m    821\u001b[0m     \u001b[0;32mdef\u001b[0m \u001b[0mto\u001b[0m\u001b[0;34m(\u001b[0m\u001b[0mself\u001b[0m\u001b[0;34m,\u001b[0m \u001b[0munit\u001b[0m\u001b[0;34m,\u001b[0m \u001b[0mequivalencies\u001b[0m\u001b[0;34m=\u001b[0m\u001b[0;34m[\u001b[0m\u001b[0;34m]\u001b[0m\u001b[0;34m)\u001b[0m\u001b[0;34m:\u001b[0m\u001b[0;34m\u001b[0m\u001b[0m\n",
      "\u001b[0;32m~/anaconda3/lib/python3.6/site-packages/astropy/units/core.py\u001b[0m in \u001b[0;36mto\u001b[0;34m(self, other, value, equivalencies)\u001b[0m\n\u001b[1;32m    963\u001b[0m             \u001b[0mIf\u001b[0m \u001b[0munits\u001b[0m \u001b[0mare\u001b[0m \u001b[0minconsistent\u001b[0m\u001b[0;34m\u001b[0m\u001b[0m\n\u001b[1;32m    964\u001b[0m         \"\"\"\n\u001b[0;32m--> 965\u001b[0;31m         \u001b[0;32mreturn\u001b[0m \u001b[0mself\u001b[0m\u001b[0;34m.\u001b[0m\u001b[0m_get_converter\u001b[0m\u001b[0;34m(\u001b[0m\u001b[0mother\u001b[0m\u001b[0;34m,\u001b[0m \u001b[0mequivalencies\u001b[0m\u001b[0;34m=\u001b[0m\u001b[0mequivalencies\u001b[0m\u001b[0;34m)\u001b[0m\u001b[0;34m(\u001b[0m\u001b[0mvalue\u001b[0m\u001b[0;34m)\u001b[0m\u001b[0;34m\u001b[0m\u001b[0m\n\u001b[0m\u001b[1;32m    966\u001b[0m \u001b[0;34m\u001b[0m\u001b[0m\n\u001b[1;32m    967\u001b[0m     \u001b[0;32mdef\u001b[0m \u001b[0min_units\u001b[0m\u001b[0;34m(\u001b[0m\u001b[0mself\u001b[0m\u001b[0;34m,\u001b[0m \u001b[0mother\u001b[0m\u001b[0;34m,\u001b[0m \u001b[0mvalue\u001b[0m\u001b[0;34m=\u001b[0m\u001b[0;36m1.0\u001b[0m\u001b[0;34m,\u001b[0m \u001b[0mequivalencies\u001b[0m\u001b[0;34m=\u001b[0m\u001b[0;34m[\u001b[0m\u001b[0;34m]\u001b[0m\u001b[0;34m)\u001b[0m\u001b[0;34m:\u001b[0m\u001b[0;34m\u001b[0m\u001b[0m\n",
      "\u001b[0;32m~/anaconda3/lib/python3.6/site-packages/astropy/units/core.py\u001b[0m in \u001b[0;36m_get_converter\u001b[0;34m(self, other, equivalencies)\u001b[0m\n\u001b[1;32m    897\u001b[0m                             \u001b[0;32mpass\u001b[0m\u001b[0;34m\u001b[0m\u001b[0m\n\u001b[1;32m    898\u001b[0m \u001b[0;34m\u001b[0m\u001b[0m\n\u001b[0;32m--> 899\u001b[0;31m             \u001b[0;32mraise\u001b[0m \u001b[0mexc\u001b[0m\u001b[0;34m\u001b[0m\u001b[0m\n\u001b[0m\u001b[1;32m    900\u001b[0m \u001b[0;34m\u001b[0m\u001b[0m\n\u001b[1;32m    901\u001b[0m     \u001b[0;32mdef\u001b[0m \u001b[0m_to\u001b[0m\u001b[0;34m(\u001b[0m\u001b[0mself\u001b[0m\u001b[0;34m,\u001b[0m \u001b[0mother\u001b[0m\u001b[0;34m)\u001b[0m\u001b[0;34m:\u001b[0m\u001b[0;34m\u001b[0m\u001b[0m\n",
      "\u001b[0;32m~/anaconda3/lib/python3.6/site-packages/astropy/units/core.py\u001b[0m in \u001b[0;36m_get_converter\u001b[0;34m(self, other, equivalencies)\u001b[0m\n\u001b[1;32m    883\u001b[0m         \u001b[0;32mtry\u001b[0m\u001b[0;34m:\u001b[0m\u001b[0;34m\u001b[0m\u001b[0m\n\u001b[1;32m    884\u001b[0m             return self._apply_equivalencies(\n\u001b[0;32m--> 885\u001b[0;31m                 self, other, self._normalize_equivalencies(equivalencies))\n\u001b[0m\u001b[1;32m    886\u001b[0m         \u001b[0;32mexcept\u001b[0m \u001b[0mUnitsError\u001b[0m \u001b[0;32mas\u001b[0m \u001b[0mexc\u001b[0m\u001b[0;34m:\u001b[0m\u001b[0;34m\u001b[0m\u001b[0m\n\u001b[1;32m    887\u001b[0m             \u001b[0;31m# Last hope: maybe other knows how to do it?\u001b[0m\u001b[0;34m\u001b[0m\u001b[0;34m\u001b[0m\u001b[0m\n",
      "\u001b[0;32m~/anaconda3/lib/python3.6/site-packages/astropy/units/core.py\u001b[0m in \u001b[0;36m_apply_equivalencies\u001b[0;34m(self, unit, other, equivalencies)\u001b[0m\n\u001b[1;32m    867\u001b[0m         raise UnitConversionError(\n\u001b[1;32m    868\u001b[0m             \"{0} and {1} are not convertible\".format(\n\u001b[0;32m--> 869\u001b[0;31m                 unit_str, other_str))\n\u001b[0m\u001b[1;32m    870\u001b[0m \u001b[0;34m\u001b[0m\u001b[0m\n\u001b[1;32m    871\u001b[0m     \u001b[0;32mdef\u001b[0m \u001b[0m_get_converter\u001b[0m\u001b[0;34m(\u001b[0m\u001b[0mself\u001b[0m\u001b[0;34m,\u001b[0m \u001b[0mother\u001b[0m\u001b[0;34m,\u001b[0m \u001b[0mequivalencies\u001b[0m\u001b[0;34m=\u001b[0m\u001b[0;34m[\u001b[0m\u001b[0;34m]\u001b[0m\u001b[0;34m)\u001b[0m\u001b[0;34m:\u001b[0m\u001b[0;34m\u001b[0m\u001b[0m\n",
      "\u001b[0;31mUnitConversionError\u001b[0m: 'm' (length) and 'Hz' (frequency) are not convertible"
     ]
    }
   ],
   "source": [
    "(656.281*u.m).to(u.Hz)"
   ]
  },
  {
   "cell_type": "code",
   "execution_count": 61,
   "metadata": {},
   "outputs": [
    {
     "data": {
      "text/latex": [
       "$4.5680502 \\times 10^{14} \\; \\mathrm{Hz}$"
      ],
      "text/plain": [
       "<Quantity 4.56805024e+14 Hz>"
      ]
     },
     "execution_count": 61,
     "metadata": {},
     "output_type": "execute_result"
    }
   ],
   "source": [
    "(656.281*u.nm).to(u.Hz,equivalencies=u.spectral())"
   ]
  },
  {
   "cell_type": "markdown",
   "metadata": {},
   "source": [
    "Other built-in equivalencies are: \n",
    " - `parallax()`\n",
    " - Doppler (`dopplr_radio`, `doppler_optical`, `doppler_relativistic`)\n",
    " - spectral flux density\n",
    " - brigthness temperature\n",
    " - temperature energy\n",
    " - and you can [build your own](http://astropy.readthedocs.org/en/stable/units/equivalencies.html#writing-new-equivalencies)"
   ]
  },
  {
   "cell_type": "code",
   "execution_count": 62,
   "metadata": {},
   "outputs": [
    {
     "data": {
      "text/plain": [
       "  Primary name | Unit definition | Aliases     \n",
       "[\n",
       "  Bq           | 1 / s           | becquerel    ,\n",
       "  Ci           | 3.7e+10 / s     | curie        ,\n",
       "  Hz           | 1 / s           | Hertz, hertz ,\n",
       "]"
      ]
     },
     "execution_count": 62,
     "metadata": {},
     "output_type": "execute_result"
    }
   ],
   "source": [
    "u.Hz.find_equivalent_units()"
   ]
  },
  {
   "cell_type": "code",
   "execution_count": null,
   "metadata": {},
   "outputs": [],
   "source": []
  },
  {
   "cell_type": "markdown",
   "metadata": {},
   "source": [
    "## Printing the quantities"
   ]
  },
  {
   "cell_type": "code",
   "execution_count": 66,
   "metadata": {},
   "outputs": [
    {
     "name": "stdout",
     "output_type": "stream",
     "text": [
      "-1532.667m s-1\n",
      "-1532.667$\\mathrm{m\\,s^{-1}}$\n"
     ]
    }
   ],
   "source": [
    "print(\"{0.value:0.03f}{0.unit:FITS}\".format(speed.si))\n",
    "print(\"{0.value:0.03f}{0.unit:latex_inline}\".format(speed))"
   ]
  },
  {
   "cell_type": "code",
   "execution_count": 67,
   "metadata": {},
   "outputs": [
    {
     "name": "stdout",
     "output_type": "stream",
     "text": [
      "-1532.6666666666667m s-1\n"
     ]
    }
   ],
   "source": [
    "print(f\"{speed.value}{speed.unit:FITS}\")"
   ]
  },
  {
   "cell_type": "code",
   "execution_count": null,
   "metadata": {},
   "outputs": [],
   "source": []
  },
  {
   "cell_type": "markdown",
   "metadata": {},
   "source": [
    "## Arrays\n",
    "\n",
    "Quantities can also be applied to arrays"
   ]
  },
  {
   "cell_type": "code",
   "execution_count": 68,
   "metadata": {},
   "outputs": [
    {
     "name": "stdout",
     "output_type": "stream",
     "text": [
      "1.9130434782608696 m / s\n"
     ]
    }
   ],
   "source": [
    "length=44*u.m\n",
    "time=u.Quantity(23,u.s)\n",
    "speed=length/time\n",
    "print(speed)"
   ]
  },
  {
   "cell_type": "code",
   "execution_count": 71,
   "metadata": {},
   "outputs": [
    {
     "name": "stdout",
     "output_type": "stream",
     "text": [
      "[1. 1. 1.] m / s\n"
     ]
    }
   ],
   "source": [
    "length_list=[1,2,3]*u.m\n",
    "import numpy as np\n",
    "time_array=np.array([1,2,3])*u.s\n",
    "\n",
    "print(length_list/time_array)"
   ]
  },
  {
   "cell_type": "code",
   "execution_count": 75,
   "metadata": {},
   "outputs": [
    {
     "name": "stdout",
     "output_type": "stream",
     "text": [
      "[  0. 359.] deg\n",
      "[ 0.         -0.01745241]\n"
     ]
    }
   ],
   "source": [
    "angle=u.Quantity(np.arange(360),u.deg)\n",
    "print(angle[[0,-1]])\n",
    "print(np.sin(angle[[0,-1]]))"
   ]
  },
  {
   "cell_type": "markdown",
   "metadata": {},
   "source": [
    "## Plotting quantities\n",
    "\n",
    "To work nicely with matplotlib we need to do as follows:"
   ]
  },
  {
   "cell_type": "code",
   "execution_count": 76,
   "metadata": {},
   "outputs": [],
   "source": [
    "from astropy.visualization import quantity_support\n",
    "quantity_support()\n",
    "\n",
    "%matplotlib notebook\n",
    "from matplotlib import pyplot as plt"
   ]
  },
  {
   "cell_type": "code",
   "execution_count": 80,
   "metadata": {},
   "outputs": [
    {
     "data": {
      "application/javascript": [
       "/* Put everything inside the global mpl namespace */\n",
       "window.mpl = {};\n",
       "\n",
       "\n",
       "mpl.get_websocket_type = function() {\n",
       "    if (typeof(WebSocket) !== 'undefined') {\n",
       "        return WebSocket;\n",
       "    } else if (typeof(MozWebSocket) !== 'undefined') {\n",
       "        return MozWebSocket;\n",
       "    } else {\n",
       "        alert('Your browser does not have WebSocket support.' +\n",
       "              'Please try Chrome, Safari or Firefox ≥ 6. ' +\n",
       "              'Firefox 4 and 5 are also supported but you ' +\n",
       "              'have to enable WebSockets in about:config.');\n",
       "    };\n",
       "}\n",
       "\n",
       "mpl.figure = function(figure_id, websocket, ondownload, parent_element) {\n",
       "    this.id = figure_id;\n",
       "\n",
       "    this.ws = websocket;\n",
       "\n",
       "    this.supports_binary = (this.ws.binaryType != undefined);\n",
       "\n",
       "    if (!this.supports_binary) {\n",
       "        var warnings = document.getElementById(\"mpl-warnings\");\n",
       "        if (warnings) {\n",
       "            warnings.style.display = 'block';\n",
       "            warnings.textContent = (\n",
       "                \"This browser does not support binary websocket messages. \" +\n",
       "                    \"Performance may be slow.\");\n",
       "        }\n",
       "    }\n",
       "\n",
       "    this.imageObj = new Image();\n",
       "\n",
       "    this.context = undefined;\n",
       "    this.message = undefined;\n",
       "    this.canvas = undefined;\n",
       "    this.rubberband_canvas = undefined;\n",
       "    this.rubberband_context = undefined;\n",
       "    this.format_dropdown = undefined;\n",
       "\n",
       "    this.image_mode = 'full';\n",
       "\n",
       "    this.root = $('<div/>');\n",
       "    this._root_extra_style(this.root)\n",
       "    this.root.attr('style', 'display: inline-block');\n",
       "\n",
       "    $(parent_element).append(this.root);\n",
       "\n",
       "    this._init_header(this);\n",
       "    this._init_canvas(this);\n",
       "    this._init_toolbar(this);\n",
       "\n",
       "    var fig = this;\n",
       "\n",
       "    this.waiting = false;\n",
       "\n",
       "    this.ws.onopen =  function () {\n",
       "            fig.send_message(\"supports_binary\", {value: fig.supports_binary});\n",
       "            fig.send_message(\"send_image_mode\", {});\n",
       "            if (mpl.ratio != 1) {\n",
       "                fig.send_message(\"set_dpi_ratio\", {'dpi_ratio': mpl.ratio});\n",
       "            }\n",
       "            fig.send_message(\"refresh\", {});\n",
       "        }\n",
       "\n",
       "    this.imageObj.onload = function() {\n",
       "            if (fig.image_mode == 'full') {\n",
       "                // Full images could contain transparency (where diff images\n",
       "                // almost always do), so we need to clear the canvas so that\n",
       "                // there is no ghosting.\n",
       "                fig.context.clearRect(0, 0, fig.canvas.width, fig.canvas.height);\n",
       "            }\n",
       "            fig.context.drawImage(fig.imageObj, 0, 0);\n",
       "        };\n",
       "\n",
       "    this.imageObj.onunload = function() {\n",
       "        fig.ws.close();\n",
       "    }\n",
       "\n",
       "    this.ws.onmessage = this._make_on_message_function(this);\n",
       "\n",
       "    this.ondownload = ondownload;\n",
       "}\n",
       "\n",
       "mpl.figure.prototype._init_header = function() {\n",
       "    var titlebar = $(\n",
       "        '<div class=\"ui-dialog-titlebar ui-widget-header ui-corner-all ' +\n",
       "        'ui-helper-clearfix\"/>');\n",
       "    var titletext = $(\n",
       "        '<div class=\"ui-dialog-title\" style=\"width: 100%; ' +\n",
       "        'text-align: center; padding: 3px;\"/>');\n",
       "    titlebar.append(titletext)\n",
       "    this.root.append(titlebar);\n",
       "    this.header = titletext[0];\n",
       "}\n",
       "\n",
       "\n",
       "\n",
       "mpl.figure.prototype._canvas_extra_style = function(canvas_div) {\n",
       "\n",
       "}\n",
       "\n",
       "\n",
       "mpl.figure.prototype._root_extra_style = function(canvas_div) {\n",
       "\n",
       "}\n",
       "\n",
       "mpl.figure.prototype._init_canvas = function() {\n",
       "    var fig = this;\n",
       "\n",
       "    var canvas_div = $('<div/>');\n",
       "\n",
       "    canvas_div.attr('style', 'position: relative; clear: both; outline: 0');\n",
       "\n",
       "    function canvas_keyboard_event(event) {\n",
       "        return fig.key_event(event, event['data']);\n",
       "    }\n",
       "\n",
       "    canvas_div.keydown('key_press', canvas_keyboard_event);\n",
       "    canvas_div.keyup('key_release', canvas_keyboard_event);\n",
       "    this.canvas_div = canvas_div\n",
       "    this._canvas_extra_style(canvas_div)\n",
       "    this.root.append(canvas_div);\n",
       "\n",
       "    var canvas = $('<canvas/>');\n",
       "    canvas.addClass('mpl-canvas');\n",
       "    canvas.attr('style', \"left: 0; top: 0; z-index: 0; outline: 0\")\n",
       "\n",
       "    this.canvas = canvas[0];\n",
       "    this.context = canvas[0].getContext(\"2d\");\n",
       "\n",
       "    var backingStore = this.context.backingStorePixelRatio ||\n",
       "\tthis.context.webkitBackingStorePixelRatio ||\n",
       "\tthis.context.mozBackingStorePixelRatio ||\n",
       "\tthis.context.msBackingStorePixelRatio ||\n",
       "\tthis.context.oBackingStorePixelRatio ||\n",
       "\tthis.context.backingStorePixelRatio || 1;\n",
       "\n",
       "    mpl.ratio = (window.devicePixelRatio || 1) / backingStore;\n",
       "\n",
       "    var rubberband = $('<canvas/>');\n",
       "    rubberband.attr('style', \"position: absolute; left: 0; top: 0; z-index: 1;\")\n",
       "\n",
       "    var pass_mouse_events = true;\n",
       "\n",
       "    canvas_div.resizable({\n",
       "        start: function(event, ui) {\n",
       "            pass_mouse_events = false;\n",
       "        },\n",
       "        resize: function(event, ui) {\n",
       "            fig.request_resize(ui.size.width, ui.size.height);\n",
       "        },\n",
       "        stop: function(event, ui) {\n",
       "            pass_mouse_events = true;\n",
       "            fig.request_resize(ui.size.width, ui.size.height);\n",
       "        },\n",
       "    });\n",
       "\n",
       "    function mouse_event_fn(event) {\n",
       "        if (pass_mouse_events)\n",
       "            return fig.mouse_event(event, event['data']);\n",
       "    }\n",
       "\n",
       "    rubberband.mousedown('button_press', mouse_event_fn);\n",
       "    rubberband.mouseup('button_release', mouse_event_fn);\n",
       "    // Throttle sequential mouse events to 1 every 20ms.\n",
       "    rubberband.mousemove('motion_notify', mouse_event_fn);\n",
       "\n",
       "    rubberband.mouseenter('figure_enter', mouse_event_fn);\n",
       "    rubberband.mouseleave('figure_leave', mouse_event_fn);\n",
       "\n",
       "    canvas_div.on(\"wheel\", function (event) {\n",
       "        event = event.originalEvent;\n",
       "        event['data'] = 'scroll'\n",
       "        if (event.deltaY < 0) {\n",
       "            event.step = 1;\n",
       "        } else {\n",
       "            event.step = -1;\n",
       "        }\n",
       "        mouse_event_fn(event);\n",
       "    });\n",
       "\n",
       "    canvas_div.append(canvas);\n",
       "    canvas_div.append(rubberband);\n",
       "\n",
       "    this.rubberband = rubberband;\n",
       "    this.rubberband_canvas = rubberband[0];\n",
       "    this.rubberband_context = rubberband[0].getContext(\"2d\");\n",
       "    this.rubberband_context.strokeStyle = \"#000000\";\n",
       "\n",
       "    this._resize_canvas = function(width, height) {\n",
       "        // Keep the size of the canvas, canvas container, and rubber band\n",
       "        // canvas in synch.\n",
       "        canvas_div.css('width', width)\n",
       "        canvas_div.css('height', height)\n",
       "\n",
       "        canvas.attr('width', width * mpl.ratio);\n",
       "        canvas.attr('height', height * mpl.ratio);\n",
       "        canvas.attr('style', 'width: ' + width + 'px; height: ' + height + 'px;');\n",
       "\n",
       "        rubberband.attr('width', width);\n",
       "        rubberband.attr('height', height);\n",
       "    }\n",
       "\n",
       "    // Set the figure to an initial 600x600px, this will subsequently be updated\n",
       "    // upon first draw.\n",
       "    this._resize_canvas(600, 600);\n",
       "\n",
       "    // Disable right mouse context menu.\n",
       "    $(this.rubberband_canvas).bind(\"contextmenu\",function(e){\n",
       "        return false;\n",
       "    });\n",
       "\n",
       "    function set_focus () {\n",
       "        canvas.focus();\n",
       "        canvas_div.focus();\n",
       "    }\n",
       "\n",
       "    window.setTimeout(set_focus, 100);\n",
       "}\n",
       "\n",
       "mpl.figure.prototype._init_toolbar = function() {\n",
       "    var fig = this;\n",
       "\n",
       "    var nav_element = $('<div/>')\n",
       "    nav_element.attr('style', 'width: 100%');\n",
       "    this.root.append(nav_element);\n",
       "\n",
       "    // Define a callback function for later on.\n",
       "    function toolbar_event(event) {\n",
       "        return fig.toolbar_button_onclick(event['data']);\n",
       "    }\n",
       "    function toolbar_mouse_event(event) {\n",
       "        return fig.toolbar_button_onmouseover(event['data']);\n",
       "    }\n",
       "\n",
       "    for(var toolbar_ind in mpl.toolbar_items) {\n",
       "        var name = mpl.toolbar_items[toolbar_ind][0];\n",
       "        var tooltip = mpl.toolbar_items[toolbar_ind][1];\n",
       "        var image = mpl.toolbar_items[toolbar_ind][2];\n",
       "        var method_name = mpl.toolbar_items[toolbar_ind][3];\n",
       "\n",
       "        if (!name) {\n",
       "            // put a spacer in here.\n",
       "            continue;\n",
       "        }\n",
       "        var button = $('<button/>');\n",
       "        button.addClass('ui-button ui-widget ui-state-default ui-corner-all ' +\n",
       "                        'ui-button-icon-only');\n",
       "        button.attr('role', 'button');\n",
       "        button.attr('aria-disabled', 'false');\n",
       "        button.click(method_name, toolbar_event);\n",
       "        button.mouseover(tooltip, toolbar_mouse_event);\n",
       "\n",
       "        var icon_img = $('<span/>');\n",
       "        icon_img.addClass('ui-button-icon-primary ui-icon');\n",
       "        icon_img.addClass(image);\n",
       "        icon_img.addClass('ui-corner-all');\n",
       "\n",
       "        var tooltip_span = $('<span/>');\n",
       "        tooltip_span.addClass('ui-button-text');\n",
       "        tooltip_span.html(tooltip);\n",
       "\n",
       "        button.append(icon_img);\n",
       "        button.append(tooltip_span);\n",
       "\n",
       "        nav_element.append(button);\n",
       "    }\n",
       "\n",
       "    var fmt_picker_span = $('<span/>');\n",
       "\n",
       "    var fmt_picker = $('<select/>');\n",
       "    fmt_picker.addClass('mpl-toolbar-option ui-widget ui-widget-content');\n",
       "    fmt_picker_span.append(fmt_picker);\n",
       "    nav_element.append(fmt_picker_span);\n",
       "    this.format_dropdown = fmt_picker[0];\n",
       "\n",
       "    for (var ind in mpl.extensions) {\n",
       "        var fmt = mpl.extensions[ind];\n",
       "        var option = $(\n",
       "            '<option/>', {selected: fmt === mpl.default_extension}).html(fmt);\n",
       "        fmt_picker.append(option)\n",
       "    }\n",
       "\n",
       "    // Add hover states to the ui-buttons\n",
       "    $( \".ui-button\" ).hover(\n",
       "        function() { $(this).addClass(\"ui-state-hover\");},\n",
       "        function() { $(this).removeClass(\"ui-state-hover\");}\n",
       "    );\n",
       "\n",
       "    var status_bar = $('<span class=\"mpl-message\"/>');\n",
       "    nav_element.append(status_bar);\n",
       "    this.message = status_bar[0];\n",
       "}\n",
       "\n",
       "mpl.figure.prototype.request_resize = function(x_pixels, y_pixels) {\n",
       "    // Request matplotlib to resize the figure. Matplotlib will then trigger a resize in the client,\n",
       "    // which will in turn request a refresh of the image.\n",
       "    this.send_message('resize', {'width': x_pixels, 'height': y_pixels});\n",
       "}\n",
       "\n",
       "mpl.figure.prototype.send_message = function(type, properties) {\n",
       "    properties['type'] = type;\n",
       "    properties['figure_id'] = this.id;\n",
       "    this.ws.send(JSON.stringify(properties));\n",
       "}\n",
       "\n",
       "mpl.figure.prototype.send_draw_message = function() {\n",
       "    if (!this.waiting) {\n",
       "        this.waiting = true;\n",
       "        this.ws.send(JSON.stringify({type: \"draw\", figure_id: this.id}));\n",
       "    }\n",
       "}\n",
       "\n",
       "\n",
       "mpl.figure.prototype.handle_save = function(fig, msg) {\n",
       "    var format_dropdown = fig.format_dropdown;\n",
       "    var format = format_dropdown.options[format_dropdown.selectedIndex].value;\n",
       "    fig.ondownload(fig, format);\n",
       "}\n",
       "\n",
       "\n",
       "mpl.figure.prototype.handle_resize = function(fig, msg) {\n",
       "    var size = msg['size'];\n",
       "    if (size[0] != fig.canvas.width || size[1] != fig.canvas.height) {\n",
       "        fig._resize_canvas(size[0], size[1]);\n",
       "        fig.send_message(\"refresh\", {});\n",
       "    };\n",
       "}\n",
       "\n",
       "mpl.figure.prototype.handle_rubberband = function(fig, msg) {\n",
       "    var x0 = msg['x0'] / mpl.ratio;\n",
       "    var y0 = (fig.canvas.height - msg['y0']) / mpl.ratio;\n",
       "    var x1 = msg['x1'] / mpl.ratio;\n",
       "    var y1 = (fig.canvas.height - msg['y1']) / mpl.ratio;\n",
       "    x0 = Math.floor(x0) + 0.5;\n",
       "    y0 = Math.floor(y0) + 0.5;\n",
       "    x1 = Math.floor(x1) + 0.5;\n",
       "    y1 = Math.floor(y1) + 0.5;\n",
       "    var min_x = Math.min(x0, x1);\n",
       "    var min_y = Math.min(y0, y1);\n",
       "    var width = Math.abs(x1 - x0);\n",
       "    var height = Math.abs(y1 - y0);\n",
       "\n",
       "    fig.rubberband_context.clearRect(\n",
       "        0, 0, fig.canvas.width, fig.canvas.height);\n",
       "\n",
       "    fig.rubberband_context.strokeRect(min_x, min_y, width, height);\n",
       "}\n",
       "\n",
       "mpl.figure.prototype.handle_figure_label = function(fig, msg) {\n",
       "    // Updates the figure title.\n",
       "    fig.header.textContent = msg['label'];\n",
       "}\n",
       "\n",
       "mpl.figure.prototype.handle_cursor = function(fig, msg) {\n",
       "    var cursor = msg['cursor'];\n",
       "    switch(cursor)\n",
       "    {\n",
       "    case 0:\n",
       "        cursor = 'pointer';\n",
       "        break;\n",
       "    case 1:\n",
       "        cursor = 'default';\n",
       "        break;\n",
       "    case 2:\n",
       "        cursor = 'crosshair';\n",
       "        break;\n",
       "    case 3:\n",
       "        cursor = 'move';\n",
       "        break;\n",
       "    }\n",
       "    fig.rubberband_canvas.style.cursor = cursor;\n",
       "}\n",
       "\n",
       "mpl.figure.prototype.handle_message = function(fig, msg) {\n",
       "    fig.message.textContent = msg['message'];\n",
       "}\n",
       "\n",
       "mpl.figure.prototype.handle_draw = function(fig, msg) {\n",
       "    // Request the server to send over a new figure.\n",
       "    fig.send_draw_message();\n",
       "}\n",
       "\n",
       "mpl.figure.prototype.handle_image_mode = function(fig, msg) {\n",
       "    fig.image_mode = msg['mode'];\n",
       "}\n",
       "\n",
       "mpl.figure.prototype.updated_canvas_event = function() {\n",
       "    // Called whenever the canvas gets updated.\n",
       "    this.send_message(\"ack\", {});\n",
       "}\n",
       "\n",
       "// A function to construct a web socket function for onmessage handling.\n",
       "// Called in the figure constructor.\n",
       "mpl.figure.prototype._make_on_message_function = function(fig) {\n",
       "    return function socket_on_message(evt) {\n",
       "        if (evt.data instanceof Blob) {\n",
       "            /* FIXME: We get \"Resource interpreted as Image but\n",
       "             * transferred with MIME type text/plain:\" errors on\n",
       "             * Chrome.  But how to set the MIME type?  It doesn't seem\n",
       "             * to be part of the websocket stream */\n",
       "            evt.data.type = \"image/png\";\n",
       "\n",
       "            /* Free the memory for the previous frames */\n",
       "            if (fig.imageObj.src) {\n",
       "                (window.URL || window.webkitURL).revokeObjectURL(\n",
       "                    fig.imageObj.src);\n",
       "            }\n",
       "\n",
       "            fig.imageObj.src = (window.URL || window.webkitURL).createObjectURL(\n",
       "                evt.data);\n",
       "            fig.updated_canvas_event();\n",
       "            fig.waiting = false;\n",
       "            return;\n",
       "        }\n",
       "        else if (typeof evt.data === 'string' && evt.data.slice(0, 21) == \"data:image/png;base64\") {\n",
       "            fig.imageObj.src = evt.data;\n",
       "            fig.updated_canvas_event();\n",
       "            fig.waiting = false;\n",
       "            return;\n",
       "        }\n",
       "\n",
       "        var msg = JSON.parse(evt.data);\n",
       "        var msg_type = msg['type'];\n",
       "\n",
       "        // Call the  \"handle_{type}\" callback, which takes\n",
       "        // the figure and JSON message as its only arguments.\n",
       "        try {\n",
       "            var callback = fig[\"handle_\" + msg_type];\n",
       "        } catch (e) {\n",
       "            console.log(\"No handler for the '\" + msg_type + \"' message type: \", msg);\n",
       "            return;\n",
       "        }\n",
       "\n",
       "        if (callback) {\n",
       "            try {\n",
       "                // console.log(\"Handling '\" + msg_type + \"' message: \", msg);\n",
       "                callback(fig, msg);\n",
       "            } catch (e) {\n",
       "                console.log(\"Exception inside the 'handler_\" + msg_type + \"' callback:\", e, e.stack, msg);\n",
       "            }\n",
       "        }\n",
       "    };\n",
       "}\n",
       "\n",
       "// from http://stackoverflow.com/questions/1114465/getting-mouse-location-in-canvas\n",
       "mpl.findpos = function(e) {\n",
       "    //this section is from http://www.quirksmode.org/js/events_properties.html\n",
       "    var targ;\n",
       "    if (!e)\n",
       "        e = window.event;\n",
       "    if (e.target)\n",
       "        targ = e.target;\n",
       "    else if (e.srcElement)\n",
       "        targ = e.srcElement;\n",
       "    if (targ.nodeType == 3) // defeat Safari bug\n",
       "        targ = targ.parentNode;\n",
       "\n",
       "    // jQuery normalizes the pageX and pageY\n",
       "    // pageX,Y are the mouse positions relative to the document\n",
       "    // offset() returns the position of the element relative to the document\n",
       "    var x = e.pageX - $(targ).offset().left;\n",
       "    var y = e.pageY - $(targ).offset().top;\n",
       "\n",
       "    return {\"x\": x, \"y\": y};\n",
       "};\n",
       "\n",
       "/*\n",
       " * return a copy of an object with only non-object keys\n",
       " * we need this to avoid circular references\n",
       " * http://stackoverflow.com/a/24161582/3208463\n",
       " */\n",
       "function simpleKeys (original) {\n",
       "  return Object.keys(original).reduce(function (obj, key) {\n",
       "    if (typeof original[key] !== 'object')\n",
       "        obj[key] = original[key]\n",
       "    return obj;\n",
       "  }, {});\n",
       "}\n",
       "\n",
       "mpl.figure.prototype.mouse_event = function(event, name) {\n",
       "    var canvas_pos = mpl.findpos(event)\n",
       "\n",
       "    if (name === 'button_press')\n",
       "    {\n",
       "        this.canvas.focus();\n",
       "        this.canvas_div.focus();\n",
       "    }\n",
       "\n",
       "    var x = canvas_pos.x * mpl.ratio;\n",
       "    var y = canvas_pos.y * mpl.ratio;\n",
       "\n",
       "    this.send_message(name, {x: x, y: y, button: event.button,\n",
       "                             step: event.step,\n",
       "                             guiEvent: simpleKeys(event)});\n",
       "\n",
       "    /* This prevents the web browser from automatically changing to\n",
       "     * the text insertion cursor when the button is pressed.  We want\n",
       "     * to control all of the cursor setting manually through the\n",
       "     * 'cursor' event from matplotlib */\n",
       "    event.preventDefault();\n",
       "    return false;\n",
       "}\n",
       "\n",
       "mpl.figure.prototype._key_event_extra = function(event, name) {\n",
       "    // Handle any extra behaviour associated with a key event\n",
       "}\n",
       "\n",
       "mpl.figure.prototype.key_event = function(event, name) {\n",
       "\n",
       "    // Prevent repeat events\n",
       "    if (name == 'key_press')\n",
       "    {\n",
       "        if (event.which === this._key)\n",
       "            return;\n",
       "        else\n",
       "            this._key = event.which;\n",
       "    }\n",
       "    if (name == 'key_release')\n",
       "        this._key = null;\n",
       "\n",
       "    var value = '';\n",
       "    if (event.ctrlKey && event.which != 17)\n",
       "        value += \"ctrl+\";\n",
       "    if (event.altKey && event.which != 18)\n",
       "        value += \"alt+\";\n",
       "    if (event.shiftKey && event.which != 16)\n",
       "        value += \"shift+\";\n",
       "\n",
       "    value += 'k';\n",
       "    value += event.which.toString();\n",
       "\n",
       "    this._key_event_extra(event, name);\n",
       "\n",
       "    this.send_message(name, {key: value,\n",
       "                             guiEvent: simpleKeys(event)});\n",
       "    return false;\n",
       "}\n",
       "\n",
       "mpl.figure.prototype.toolbar_button_onclick = function(name) {\n",
       "    if (name == 'download') {\n",
       "        this.handle_save(this, null);\n",
       "    } else {\n",
       "        this.send_message(\"toolbar_button\", {name: name});\n",
       "    }\n",
       "};\n",
       "\n",
       "mpl.figure.prototype.toolbar_button_onmouseover = function(tooltip) {\n",
       "    this.message.textContent = tooltip;\n",
       "};\n",
       "mpl.toolbar_items = [[\"Home\", \"Reset original view\", \"fa fa-home icon-home\", \"home\"], [\"Back\", \"Back to  previous view\", \"fa fa-arrow-left icon-arrow-left\", \"back\"], [\"Forward\", \"Forward to next view\", \"fa fa-arrow-right icon-arrow-right\", \"forward\"], [\"\", \"\", \"\", \"\"], [\"Pan\", \"Pan axes with left mouse, zoom with right\", \"fa fa-arrows icon-move\", \"pan\"], [\"Zoom\", \"Zoom to rectangle\", \"fa fa-square-o icon-check-empty\", \"zoom\"], [\"\", \"\", \"\", \"\"], [\"Download\", \"Download plot\", \"fa fa-floppy-o icon-save\", \"download\"]];\n",
       "\n",
       "mpl.extensions = [\"eps\", \"jpeg\", \"pdf\", \"png\", \"ps\", \"raw\", \"svg\", \"tif\"];\n",
       "\n",
       "mpl.default_extension = \"png\";var comm_websocket_adapter = function(comm) {\n",
       "    // Create a \"websocket\"-like object which calls the given IPython comm\n",
       "    // object with the appropriate methods. Currently this is a non binary\n",
       "    // socket, so there is still some room for performance tuning.\n",
       "    var ws = {};\n",
       "\n",
       "    ws.close = function() {\n",
       "        comm.close()\n",
       "    };\n",
       "    ws.send = function(m) {\n",
       "        //console.log('sending', m);\n",
       "        comm.send(m);\n",
       "    };\n",
       "    // Register the callback with on_msg.\n",
       "    comm.on_msg(function(msg) {\n",
       "        //console.log('receiving', msg['content']['data'], msg);\n",
       "        // Pass the mpl event to the overridden (by mpl) onmessage function.\n",
       "        ws.onmessage(msg['content']['data'])\n",
       "    });\n",
       "    return ws;\n",
       "}\n",
       "\n",
       "mpl.mpl_figure_comm = function(comm, msg) {\n",
       "    // This is the function which gets called when the mpl process\n",
       "    // starts-up an IPython Comm through the \"matplotlib\" channel.\n",
       "\n",
       "    var id = msg.content.data.id;\n",
       "    // Get hold of the div created by the display call when the Comm\n",
       "    // socket was opened in Python.\n",
       "    var element = $(\"#\" + id);\n",
       "    var ws_proxy = comm_websocket_adapter(comm)\n",
       "\n",
       "    function ondownload(figure, format) {\n",
       "        window.open(figure.imageObj.src);\n",
       "    }\n",
       "\n",
       "    var fig = new mpl.figure(id, ws_proxy,\n",
       "                           ondownload,\n",
       "                           element.get(0));\n",
       "\n",
       "    // Call onopen now - mpl needs it, as it is assuming we've passed it a real\n",
       "    // web socket which is closed, not our websocket->open comm proxy.\n",
       "    ws_proxy.onopen();\n",
       "\n",
       "    fig.parent_element = element.get(0);\n",
       "    fig.cell_info = mpl.find_output_cell(\"<div id='\" + id + \"'></div>\");\n",
       "    if (!fig.cell_info) {\n",
       "        console.error(\"Failed to find cell for figure\", id, fig);\n",
       "        return;\n",
       "    }\n",
       "\n",
       "    var output_index = fig.cell_info[2]\n",
       "    var cell = fig.cell_info[0];\n",
       "\n",
       "};\n",
       "\n",
       "mpl.figure.prototype.handle_close = function(fig, msg) {\n",
       "    var width = fig.canvas.width/mpl.ratio\n",
       "    fig.root.unbind('remove')\n",
       "\n",
       "    // Update the output cell to use the data from the current canvas.\n",
       "    fig.push_to_output();\n",
       "    var dataURL = fig.canvas.toDataURL();\n",
       "    // Re-enable the keyboard manager in IPython - without this line, in FF,\n",
       "    // the notebook keyboard shortcuts fail.\n",
       "    IPython.keyboard_manager.enable()\n",
       "    $(fig.parent_element).html('<img src=\"' + dataURL + '\" width=\"' + width + '\">');\n",
       "    fig.close_ws(fig, msg);\n",
       "}\n",
       "\n",
       "mpl.figure.prototype.close_ws = function(fig, msg){\n",
       "    fig.send_message('closing', msg);\n",
       "    // fig.ws.close()\n",
       "}\n",
       "\n",
       "mpl.figure.prototype.push_to_output = function(remove_interactive) {\n",
       "    // Turn the data on the canvas into data in the output cell.\n",
       "    var width = this.canvas.width/mpl.ratio\n",
       "    var dataURL = this.canvas.toDataURL();\n",
       "    this.cell_info[1]['text/html'] = '<img src=\"' + dataURL + '\" width=\"' + width + '\">';\n",
       "}\n",
       "\n",
       "mpl.figure.prototype.updated_canvas_event = function() {\n",
       "    // Tell IPython that the notebook contents must change.\n",
       "    IPython.notebook.set_dirty(true);\n",
       "    this.send_message(\"ack\", {});\n",
       "    var fig = this;\n",
       "    // Wait a second, then push the new image to the DOM so\n",
       "    // that it is saved nicely (might be nice to debounce this).\n",
       "    setTimeout(function () { fig.push_to_output() }, 1000);\n",
       "}\n",
       "\n",
       "mpl.figure.prototype._init_toolbar = function() {\n",
       "    var fig = this;\n",
       "\n",
       "    var nav_element = $('<div/>')\n",
       "    nav_element.attr('style', 'width: 100%');\n",
       "    this.root.append(nav_element);\n",
       "\n",
       "    // Define a callback function for later on.\n",
       "    function toolbar_event(event) {\n",
       "        return fig.toolbar_button_onclick(event['data']);\n",
       "    }\n",
       "    function toolbar_mouse_event(event) {\n",
       "        return fig.toolbar_button_onmouseover(event['data']);\n",
       "    }\n",
       "\n",
       "    for(var toolbar_ind in mpl.toolbar_items){\n",
       "        var name = mpl.toolbar_items[toolbar_ind][0];\n",
       "        var tooltip = mpl.toolbar_items[toolbar_ind][1];\n",
       "        var image = mpl.toolbar_items[toolbar_ind][2];\n",
       "        var method_name = mpl.toolbar_items[toolbar_ind][3];\n",
       "\n",
       "        if (!name) { continue; };\n",
       "\n",
       "        var button = $('<button class=\"btn btn-default\" href=\"#\" title=\"' + name + '\"><i class=\"fa ' + image + ' fa-lg\"></i></button>');\n",
       "        button.click(method_name, toolbar_event);\n",
       "        button.mouseover(tooltip, toolbar_mouse_event);\n",
       "        nav_element.append(button);\n",
       "    }\n",
       "\n",
       "    // Add the status bar.\n",
       "    var status_bar = $('<span class=\"mpl-message\" style=\"text-align:right; float: right;\"/>');\n",
       "    nav_element.append(status_bar);\n",
       "    this.message = status_bar[0];\n",
       "\n",
       "    // Add the close button to the window.\n",
       "    var buttongrp = $('<div class=\"btn-group inline pull-right\"></div>');\n",
       "    var button = $('<button class=\"btn btn-mini btn-primary\" href=\"#\" title=\"Stop Interaction\"><i class=\"fa fa-power-off icon-remove icon-large\"></i></button>');\n",
       "    button.click(function (evt) { fig.handle_close(fig, {}); } );\n",
       "    button.mouseover('Stop Interaction', toolbar_mouse_event);\n",
       "    buttongrp.append(button);\n",
       "    var titlebar = this.root.find($('.ui-dialog-titlebar'));\n",
       "    titlebar.prepend(buttongrp);\n",
       "}\n",
       "\n",
       "mpl.figure.prototype._root_extra_style = function(el){\n",
       "    var fig = this\n",
       "    el.on(\"remove\", function(){\n",
       "\tfig.close_ws(fig, {});\n",
       "    });\n",
       "}\n",
       "\n",
       "mpl.figure.prototype._canvas_extra_style = function(el){\n",
       "    // this is important to make the div 'focusable\n",
       "    el.attr('tabindex', 0)\n",
       "    // reach out to IPython and tell the keyboard manager to turn it's self\n",
       "    // off when our div gets focus\n",
       "\n",
       "    // location in version 3\n",
       "    if (IPython.notebook.keyboard_manager) {\n",
       "        IPython.notebook.keyboard_manager.register_events(el);\n",
       "    }\n",
       "    else {\n",
       "        // location in version 2\n",
       "        IPython.keyboard_manager.register_events(el);\n",
       "    }\n",
       "\n",
       "}\n",
       "\n",
       "mpl.figure.prototype._key_event_extra = function(event, name) {\n",
       "    var manager = IPython.notebook.keyboard_manager;\n",
       "    if (!manager)\n",
       "        manager = IPython.keyboard_manager;\n",
       "\n",
       "    // Check for shift+enter\n",
       "    if (event.shiftKey && event.which == 13) {\n",
       "        this.canvas_div.blur();\n",
       "        event.shiftKey = false;\n",
       "        // Send a \"J\" for go to next cell\n",
       "        event.which = 74;\n",
       "        event.keyCode = 74;\n",
       "        manager.command_mode();\n",
       "        manager.handle_keydown(event);\n",
       "    }\n",
       "}\n",
       "\n",
       "mpl.figure.prototype.handle_save = function(fig, msg) {\n",
       "    fig.ondownload(fig, null);\n",
       "}\n",
       "\n",
       "\n",
       "mpl.find_output_cell = function(html_output) {\n",
       "    // Return the cell and output element which can be found *uniquely* in the notebook.\n",
       "    // Note - this is a bit hacky, but it is done because the \"notebook_saving.Notebook\"\n",
       "    // IPython event is triggered only after the cells have been serialised, which for\n",
       "    // our purposes (turning an active figure into a static one), is too late.\n",
       "    var cells = IPython.notebook.get_cells();\n",
       "    var ncells = cells.length;\n",
       "    for (var i=0; i<ncells; i++) {\n",
       "        var cell = cells[i];\n",
       "        if (cell.cell_type === 'code'){\n",
       "            for (var j=0; j<cell.output_area.outputs.length; j++) {\n",
       "                var data = cell.output_area.outputs[j];\n",
       "                if (data.data) {\n",
       "                    // IPython >= 3 moved mimebundle to data attribute of output\n",
       "                    data = data.data;\n",
       "                }\n",
       "                if (data['text/html'] == html_output) {\n",
       "                    return [cell, data, j];\n",
       "                }\n",
       "            }\n",
       "        }\n",
       "    }\n",
       "}\n",
       "\n",
       "// Register the function which deals with the matplotlib target/channel.\n",
       "// The kernel may be null if the page has been refreshed.\n",
       "if (IPython.notebook.kernel != null) {\n",
       "    IPython.notebook.kernel.comm_manager.register_target('matplotlib', mpl.mpl_figure_comm);\n",
       "}\n"
      ],
      "text/plain": [
       "<IPython.core.display.Javascript object>"
      ]
     },
     "metadata": {},
     "output_type": "display_data"
    },
    {
     "data": {
      "text/html": [
       "<img src=\"data:image/png;base64,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\" width=\"640\">"
      ],
      "text/plain": [
       "<IPython.core.display.HTML object>"
      ]
     },
     "metadata": {},
     "output_type": "display_data"
    },
    {
     "data": {
      "text/plain": [
       "[<matplotlib.lines.Line2D at 0x817bcd7b8>]"
      ]
     },
     "execution_count": 80,
     "metadata": {},
     "output_type": "execute_result"
    }
   ],
   "source": [
    "plt.plot(angle,np.sin(angle))"
   ]
  },
  {
   "cell_type": "markdown",
   "metadata": {},
   "source": [
    "## Creating functions with quantities as units\n",
    "\n",
    "We want to have functions that contain the information of the untis, and with them we can be sure that we will be always have the *right* result."
   ]
  },
  {
   "cell_type": "code",
   "execution_count": 86,
   "metadata": {},
   "outputs": [],
   "source": [
    "@u.quantity_input(mass=u.kg,speed=u.m/u.s) #this is so you have to put the units into the definition stated in @u.\n",
    "\n",
    "def kinetic(mass,speed):\n",
    "    return (mass*speed**2/2).to(u.joule)  #old way of doing this\n",
    "\n",
    "#new way of doing it\n",
    "\n",
    "@u.quantity_input #this is so you have to put the units into the definition stated in @u.\n",
    "\n",
    "def kinetic(mass:u.kg,speed:u.m/u.s):\n",
    "    return (mass*speed**2/2).to(u.joule)"
   ]
  },
  {
   "cell_type": "code",
   "execution_count": 82,
   "metadata": {},
   "outputs": [
    {
     "ename": "TypeError",
     "evalue": "Argument 'mass' to function 'kinetic' has no 'unit' attribute. You may want to pass in an astropy Quantity instead.",
     "output_type": "error",
     "traceback": [
      "\u001b[0;31m---------------------------------------------------------------------------\u001b[0m",
      "\u001b[0;31mAttributeError\u001b[0m                            Traceback (most recent call last)",
      "\u001b[0;32m~/anaconda3/lib/python3.6/site-packages/astropy/units/decorators.py\u001b[0m in \u001b[0;36m_validate_arg_value\u001b[0;34m(param_name, func_name, arg, targets, equivalencies)\u001b[0m\n\u001b[1;32m     52\u001b[0m         \u001b[0;32mtry\u001b[0m\u001b[0;34m:\u001b[0m\u001b[0;34m\u001b[0m\u001b[0m\n\u001b[0;32m---> 53\u001b[0;31m             is_equivalent = arg.unit.is_equivalent(allowed_unit,\n\u001b[0m\u001b[1;32m     54\u001b[0m                                                    equivalencies=equivalencies)\n",
      "\u001b[0;31mAttributeError\u001b[0m: 'int' object has no attribute 'unit'",
      "\nDuring handling of the above exception, another exception occurred:\n",
      "\u001b[0;31mTypeError\u001b[0m                                 Traceback (most recent call last)",
      "\u001b[0;32m<ipython-input-82-4fdf93d8a34d>\u001b[0m in \u001b[0;36m<module>\u001b[0;34m()\u001b[0m\n\u001b[0;32m----> 1\u001b[0;31m \u001b[0mkinetic\u001b[0m\u001b[0;34m(\u001b[0m\u001b[0;36m5\u001b[0m\u001b[0;34m,\u001b[0m\u001b[0;36m10\u001b[0m\u001b[0;34m)\u001b[0m\u001b[0;34m\u001b[0m\u001b[0m\n\u001b[0m",
      "\u001b[0;32m~/anaconda3/lib/python3.6/site-packages/astropy/utils/decorators.py\u001b[0m in \u001b[0;36mkinetic\u001b[0;34m(mass, speed)\u001b[0m\n\u001b[1;32m    825\u001b[0m             \u001b[0mname\u001b[0m \u001b[0;34m=\u001b[0m \u001b[0mfunc\u001b[0m\u001b[0;34m.\u001b[0m\u001b[0m__name__\u001b[0m\u001b[0;34m\u001b[0m\u001b[0m\n\u001b[1;32m    826\u001b[0m \u001b[0;34m\u001b[0m\u001b[0m\n\u001b[0;32m--> 827\u001b[0;31m         \u001b[0mfunc\u001b[0m \u001b[0;34m=\u001b[0m \u001b[0mmake_function_with_signature\u001b[0m\u001b[0;34m(\u001b[0m\u001b[0mfunc\u001b[0m\u001b[0;34m,\u001b[0m \u001b[0mname\u001b[0m\u001b[0;34m=\u001b[0m\u001b[0mname\u001b[0m\u001b[0;34m,\u001b[0m \u001b[0;34m**\u001b[0m\u001b[0mwrapped_args\u001b[0m\u001b[0;34m)\u001b[0m\u001b[0;34m\u001b[0m\u001b[0m\n\u001b[0m\u001b[1;32m    828\u001b[0m         func = functools.update_wrapper(func, wrapped, assigned=assigned,\n\u001b[1;32m    829\u001b[0m                                         updated=updated)\n",
      "\u001b[0;32m~/anaconda3/lib/python3.6/site-packages/astropy/units/decorators.py\u001b[0m in \u001b[0;36mwrapper\u001b[0;34m(*func_args, **func_kwargs)\u001b[0m\n\u001b[1;32m    216\u001b[0m                 \u001b[0;31m#   the value of the argument:\u001b[0m\u001b[0;34m\u001b[0m\u001b[0;34m\u001b[0m\u001b[0m\n\u001b[1;32m    217\u001b[0m                 _validate_arg_value(param.name, wrapped_function.__name__,\n\u001b[0;32m--> 218\u001b[0;31m                                     arg, valid_targets, self.equivalencies)\n\u001b[0m\u001b[1;32m    219\u001b[0m \u001b[0;34m\u001b[0m\u001b[0m\n\u001b[1;32m    220\u001b[0m             \u001b[0;31m# Call the original function with any equivalencies in force.\u001b[0m\u001b[0;34m\u001b[0m\u001b[0;34m\u001b[0m\u001b[0m\n",
      "\u001b[0;32m~/anaconda3/lib/python3.6/site-packages/astropy/units/decorators.py\u001b[0m in \u001b[0;36m_validate_arg_value\u001b[0;34m(param_name, func_name, arg, targets, equivalencies)\u001b[0m\n\u001b[1;32m     65\u001b[0m             raise TypeError(\"Argument '{0}' to function '{1}' has {2}. \"\n\u001b[1;32m     66\u001b[0m                   \u001b[0;34m\"You may want to pass in an astropy Quantity instead.\"\u001b[0m\u001b[0;34m\u001b[0m\u001b[0m\n\u001b[0;32m---> 67\u001b[0;31m                      .format(param_name, func_name, error_msg))\n\u001b[0m\u001b[1;32m     68\u001b[0m \u001b[0;34m\u001b[0m\u001b[0m\n\u001b[1;32m     69\u001b[0m     \u001b[0;32melse\u001b[0m\u001b[0;34m:\u001b[0m\u001b[0;34m\u001b[0m\u001b[0m\n",
      "\u001b[0;31mTypeError\u001b[0m: Argument 'mass' to function 'kinetic' has no 'unit' attribute. You may want to pass in an astropy Quantity instead."
     ]
    }
   ],
   "source": [
    "kinetic(5,10)"
   ]
  },
  {
   "cell_type": "code",
   "execution_count": 87,
   "metadata": {},
   "outputs": [
    {
     "data": {
      "text/latex": [
       "$0.025 \\; \\mathrm{J}$"
      ],
      "text/plain": [
       "<Quantity 0.025 J>"
      ]
     },
     "execution_count": 87,
     "metadata": {},
     "output_type": "execute_result"
    }
   ],
   "source": [
    "kinetic(5*u.kg,10*cms)"
   ]
  },
  {
   "cell_type": "markdown",
   "metadata": {},
   "source": [
    "\n",
    "<section class=\"challenge panel panel-success\">\n",
    "<div class=\"panel-heading\">\n",
    "<h2><span class=\"fa fa-pencil\"></span> Using `quantity_input`</h2>\n",
    "</div>\n",
    "\n",
    "\n",
    "<div class=\"panel-body\">\n",
    "\n",
    "<ol>\n",
    "<li>Create a function that calculates potential energy where $g$ defaults to Earth value, but could be used for different planets. Test it for any of the $g$ values for any other <a href=\"http://www.physicsclassroom.com/class/circles/Lesson-3/The-Value-of-g&quot;\">planets</a>.</li>\n",
    "</ol>\n",
    "\n",
    "</div>\n",
    "\n",
    "</section>\n"
   ]
  },
  {
   "cell_type": "code",
   "execution_count": 134,
   "metadata": {},
   "outputs": [
    {
     "ename": "UnitConversionError",
     "evalue": "'kg2 m2 / s2' and 'J' (energy) are not convertible",
     "output_type": "error",
     "traceback": [
      "\u001b[0;31m---------------------------------------------------------------------------\u001b[0m",
      "\u001b[0;31mUnitConversionError\u001b[0m                       Traceback (most recent call last)",
      "\u001b[0;32m<ipython-input-134-ff9a70832d1e>\u001b[0m in \u001b[0;36m<module>\u001b[0;34m()\u001b[0m\n\u001b[1;32m     17\u001b[0m \u001b[0;34m\u001b[0m\u001b[0m\n\u001b[1;32m     18\u001b[0m \u001b[0;34m\u001b[0m\u001b[0m\n\u001b[0;32m---> 19\u001b[0;31m \u001b[0mpotential_energy\u001b[0m\u001b[0;34m(\u001b[0m\u001b[0;36m9.81\u001b[0m\u001b[0;34m)\u001b[0m\u001b[0;34m\u001b[0m\u001b[0m\n\u001b[0m\u001b[1;32m     20\u001b[0m \u001b[0;34m\u001b[0m\u001b[0m\n\u001b[1;32m     21\u001b[0m \u001b[0;31m#another way of writing it\u001b[0m\u001b[0;34m\u001b[0m\u001b[0;34m\u001b[0m\u001b[0m\n",
      "\u001b[0;32m<ipython-input-134-ff9a70832d1e>\u001b[0m in \u001b[0;36mpotential_energy\u001b[0;34m(g)\u001b[0m\n\u001b[1;32m     13\u001b[0m \u001b[0;32mdef\u001b[0m \u001b[0mpotential_energy\u001b[0m\u001b[0;34m(\u001b[0m\u001b[0mg\u001b[0m\u001b[0;34m)\u001b[0m\u001b[0;34m:\u001b[0m\u001b[0;34m\u001b[0m\u001b[0m\n\u001b[1;32m     14\u001b[0m     \u001b[0mpotential\u001b[0m\u001b[0;34m=\u001b[0m\u001b[0mmass\u001b[0m\u001b[0;34m*\u001b[0m\u001b[0mu\u001b[0m\u001b[0;34m.\u001b[0m\u001b[0mkg\u001b[0m\u001b[0;34m*\u001b[0m\u001b[0mheight\u001b[0m\u001b[0;34m*\u001b[0m\u001b[0mu\u001b[0m\u001b[0;34m.\u001b[0m\u001b[0mm\u001b[0m\u001b[0;34m*\u001b[0m\u001b[0mg\u001b[0m\u001b[0;34m*\u001b[0m\u001b[0mu\u001b[0m\u001b[0;34m.\u001b[0m\u001b[0mm\u001b[0m\u001b[0;34m*\u001b[0m\u001b[0mu\u001b[0m\u001b[0;34m.\u001b[0m\u001b[0mkg\u001b[0m\u001b[0;34m/\u001b[0m\u001b[0mu\u001b[0m\u001b[0;34m.\u001b[0m\u001b[0ms\u001b[0m\u001b[0;34m**\u001b[0m\u001b[0;36m2\u001b[0m\u001b[0;34m\u001b[0m\u001b[0m\n\u001b[0;32m---> 15\u001b[0;31m     \u001b[0;32mreturn\u001b[0m \u001b[0mpotential\u001b[0m\u001b[0;34m.\u001b[0m\u001b[0mto\u001b[0m\u001b[0;34m(\u001b[0m\u001b[0mu\u001b[0m\u001b[0;34m.\u001b[0m\u001b[0mjoule\u001b[0m\u001b[0;34m)\u001b[0m\u001b[0;34m\u001b[0m\u001b[0m\n\u001b[0m\u001b[1;32m     16\u001b[0m \u001b[0;34m\u001b[0m\u001b[0m\n\u001b[1;32m     17\u001b[0m \u001b[0;34m\u001b[0m\u001b[0m\n",
      "\u001b[0;32m~/anaconda3/lib/python3.6/site-packages/astropy/units/quantity.py\u001b[0m in \u001b[0;36mto\u001b[0;34m(self, unit, equivalencies)\u001b[0m\n\u001b[1;32m    845\u001b[0m         \u001b[0;31m# and don't want to slow down this method (esp. the scalar case).\u001b[0m\u001b[0;34m\u001b[0m\u001b[0;34m\u001b[0m\u001b[0m\n\u001b[1;32m    846\u001b[0m         \u001b[0munit\u001b[0m \u001b[0;34m=\u001b[0m \u001b[0mUnit\u001b[0m\u001b[0;34m(\u001b[0m\u001b[0munit\u001b[0m\u001b[0;34m)\u001b[0m\u001b[0;34m\u001b[0m\u001b[0m\n\u001b[0;32m--> 847\u001b[0;31m         \u001b[0;32mreturn\u001b[0m \u001b[0mself\u001b[0m\u001b[0;34m.\u001b[0m\u001b[0m_new_view\u001b[0m\u001b[0;34m(\u001b[0m\u001b[0mself\u001b[0m\u001b[0;34m.\u001b[0m\u001b[0m_to_value\u001b[0m\u001b[0;34m(\u001b[0m\u001b[0munit\u001b[0m\u001b[0;34m,\u001b[0m \u001b[0mequivalencies\u001b[0m\u001b[0;34m)\u001b[0m\u001b[0;34m,\u001b[0m \u001b[0munit\u001b[0m\u001b[0;34m)\u001b[0m\u001b[0;34m\u001b[0m\u001b[0m\n\u001b[0m\u001b[1;32m    848\u001b[0m \u001b[0;34m\u001b[0m\u001b[0m\n\u001b[1;32m    849\u001b[0m     \u001b[0;32mdef\u001b[0m \u001b[0mto_value\u001b[0m\u001b[0;34m(\u001b[0m\u001b[0mself\u001b[0m\u001b[0;34m,\u001b[0m \u001b[0munit\u001b[0m\u001b[0;34m=\u001b[0m\u001b[0;32mNone\u001b[0m\u001b[0;34m,\u001b[0m \u001b[0mequivalencies\u001b[0m\u001b[0;34m=\u001b[0m\u001b[0;34m[\u001b[0m\u001b[0;34m]\u001b[0m\u001b[0;34m)\u001b[0m\u001b[0;34m:\u001b[0m\u001b[0;34m\u001b[0m\u001b[0m\n",
      "\u001b[0;32m~/anaconda3/lib/python3.6/site-packages/astropy/units/quantity.py\u001b[0m in \u001b[0;36m_to_value\u001b[0;34m(self, unit, equivalencies)\u001b[0m\n\u001b[1;32m    817\u001b[0m             \u001b[0mequivalencies\u001b[0m \u001b[0;34m=\u001b[0m \u001b[0mself\u001b[0m\u001b[0;34m.\u001b[0m\u001b[0m_equivalencies\u001b[0m\u001b[0;34m\u001b[0m\u001b[0m\n\u001b[1;32m    818\u001b[0m         return self.unit.to(unit, self.view(np.ndarray),\n\u001b[0;32m--> 819\u001b[0;31m                             equivalencies=equivalencies)\n\u001b[0m\u001b[1;32m    820\u001b[0m \u001b[0;34m\u001b[0m\u001b[0m\n\u001b[1;32m    821\u001b[0m     \u001b[0;32mdef\u001b[0m \u001b[0mto\u001b[0m\u001b[0;34m(\u001b[0m\u001b[0mself\u001b[0m\u001b[0;34m,\u001b[0m \u001b[0munit\u001b[0m\u001b[0;34m,\u001b[0m \u001b[0mequivalencies\u001b[0m\u001b[0;34m=\u001b[0m\u001b[0;34m[\u001b[0m\u001b[0;34m]\u001b[0m\u001b[0;34m)\u001b[0m\u001b[0;34m:\u001b[0m\u001b[0;34m\u001b[0m\u001b[0m\n",
      "\u001b[0;32m~/anaconda3/lib/python3.6/site-packages/astropy/units/core.py\u001b[0m in \u001b[0;36mto\u001b[0;34m(self, other, value, equivalencies)\u001b[0m\n\u001b[1;32m    963\u001b[0m             \u001b[0mIf\u001b[0m \u001b[0munits\u001b[0m \u001b[0mare\u001b[0m \u001b[0minconsistent\u001b[0m\u001b[0;34m\u001b[0m\u001b[0m\n\u001b[1;32m    964\u001b[0m         \"\"\"\n\u001b[0;32m--> 965\u001b[0;31m         \u001b[0;32mreturn\u001b[0m \u001b[0mself\u001b[0m\u001b[0;34m.\u001b[0m\u001b[0m_get_converter\u001b[0m\u001b[0;34m(\u001b[0m\u001b[0mother\u001b[0m\u001b[0;34m,\u001b[0m \u001b[0mequivalencies\u001b[0m\u001b[0;34m=\u001b[0m\u001b[0mequivalencies\u001b[0m\u001b[0;34m)\u001b[0m\u001b[0;34m(\u001b[0m\u001b[0mvalue\u001b[0m\u001b[0;34m)\u001b[0m\u001b[0;34m\u001b[0m\u001b[0m\n\u001b[0m\u001b[1;32m    966\u001b[0m \u001b[0;34m\u001b[0m\u001b[0m\n\u001b[1;32m    967\u001b[0m     \u001b[0;32mdef\u001b[0m \u001b[0min_units\u001b[0m\u001b[0;34m(\u001b[0m\u001b[0mself\u001b[0m\u001b[0;34m,\u001b[0m \u001b[0mother\u001b[0m\u001b[0;34m,\u001b[0m \u001b[0mvalue\u001b[0m\u001b[0;34m=\u001b[0m\u001b[0;36m1.0\u001b[0m\u001b[0;34m,\u001b[0m \u001b[0mequivalencies\u001b[0m\u001b[0;34m=\u001b[0m\u001b[0;34m[\u001b[0m\u001b[0;34m]\u001b[0m\u001b[0;34m)\u001b[0m\u001b[0;34m:\u001b[0m\u001b[0;34m\u001b[0m\u001b[0m\n",
      "\u001b[0;32m~/anaconda3/lib/python3.6/site-packages/astropy/units/core.py\u001b[0m in \u001b[0;36m_get_converter\u001b[0;34m(self, other, equivalencies)\u001b[0m\n\u001b[1;32m    897\u001b[0m                             \u001b[0;32mpass\u001b[0m\u001b[0;34m\u001b[0m\u001b[0m\n\u001b[1;32m    898\u001b[0m \u001b[0;34m\u001b[0m\u001b[0m\n\u001b[0;32m--> 899\u001b[0;31m             \u001b[0;32mraise\u001b[0m \u001b[0mexc\u001b[0m\u001b[0;34m\u001b[0m\u001b[0m\n\u001b[0m\u001b[1;32m    900\u001b[0m \u001b[0;34m\u001b[0m\u001b[0m\n\u001b[1;32m    901\u001b[0m     \u001b[0;32mdef\u001b[0m \u001b[0m_to\u001b[0m\u001b[0;34m(\u001b[0m\u001b[0mself\u001b[0m\u001b[0;34m,\u001b[0m \u001b[0mother\u001b[0m\u001b[0;34m)\u001b[0m\u001b[0;34m:\u001b[0m\u001b[0;34m\u001b[0m\u001b[0m\n",
      "\u001b[0;32m~/anaconda3/lib/python3.6/site-packages/astropy/units/core.py\u001b[0m in \u001b[0;36m_get_converter\u001b[0;34m(self, other, equivalencies)\u001b[0m\n\u001b[1;32m    883\u001b[0m         \u001b[0;32mtry\u001b[0m\u001b[0;34m:\u001b[0m\u001b[0;34m\u001b[0m\u001b[0m\n\u001b[1;32m    884\u001b[0m             return self._apply_equivalencies(\n\u001b[0;32m--> 885\u001b[0;31m                 self, other, self._normalize_equivalencies(equivalencies))\n\u001b[0m\u001b[1;32m    886\u001b[0m         \u001b[0;32mexcept\u001b[0m \u001b[0mUnitsError\u001b[0m \u001b[0;32mas\u001b[0m \u001b[0mexc\u001b[0m\u001b[0;34m:\u001b[0m\u001b[0;34m\u001b[0m\u001b[0m\n\u001b[1;32m    887\u001b[0m             \u001b[0;31m# Last hope: maybe other knows how to do it?\u001b[0m\u001b[0;34m\u001b[0m\u001b[0;34m\u001b[0m\u001b[0m\n",
      "\u001b[0;32m~/anaconda3/lib/python3.6/site-packages/astropy/units/core.py\u001b[0m in \u001b[0;36m_apply_equivalencies\u001b[0;34m(self, unit, other, equivalencies)\u001b[0m\n\u001b[1;32m    867\u001b[0m         raise UnitConversionError(\n\u001b[1;32m    868\u001b[0m             \"{0} and {1} are not convertible\".format(\n\u001b[0;32m--> 869\u001b[0;31m                 unit_str, other_str))\n\u001b[0m\u001b[1;32m    870\u001b[0m \u001b[0;34m\u001b[0m\u001b[0m\n\u001b[1;32m    871\u001b[0m     \u001b[0;32mdef\u001b[0m \u001b[0m_get_converter\u001b[0m\u001b[0;34m(\u001b[0m\u001b[0mself\u001b[0m\u001b[0;34m,\u001b[0m \u001b[0mother\u001b[0m\u001b[0;34m,\u001b[0m \u001b[0mequivalencies\u001b[0m\u001b[0;34m=\u001b[0m\u001b[0;34m[\u001b[0m\u001b[0;34m]\u001b[0m\u001b[0;34m)\u001b[0m\u001b[0;34m:\u001b[0m\u001b[0;34m\u001b[0m\u001b[0m\n",
      "\u001b[0;31mUnitConversionError\u001b[0m: 'kg2 m2 / s2' and 'J' (energy) are not convertible"
     ]
    }
   ],
   "source": [
    "#import all the packages\n",
    "\n",
    "import numpy as np\n",
    "import astropy.units as u\n",
    "from astropy.visualization import quantity_support\n",
    "\n",
    "#function that calculates potential energy for any planet\n",
    "\n",
    "potential=0\n",
    "mass=5\n",
    "height=1\n",
    "    \n",
    "def potential_energy(g):\n",
    "    potential=mass*u.kg*height*u.m*g*u.m*u.kg/u.s**2\n",
    "    return potential.to(u.joule)\n",
    "\n",
    "\n",
    "\n",
    "potential_energy(9.81)\n",
    "\n",
    "#another way of writing it\n",
    "\n",
    "#    @u.quantity_input\n",
    "#    def potential(mass:u.kg,height:u.m,g:u.m/u.s**2=9.81*u.m*u.s**-2)->u.joule:\n",
    "#        return(mass*g*height)\n"
   ]
  },
  {
   "cell_type": "code",
   "execution_count": 125,
   "metadata": {},
   "outputs": [
    {
     "ename": "UnitConversionError",
     "evalue": "'kg m / s' (momentum/impulse) and 'J' (energy) are not convertible",
     "output_type": "error",
     "traceback": [
      "\u001b[0;31m---------------------------------------------------------------------------\u001b[0m",
      "\u001b[0;31mUnitConversionError\u001b[0m                       Traceback (most recent call last)",
      "\u001b[0;32m<ipython-input-125-2e0aa06f7ac4>\u001b[0m in \u001b[0;36m<module>\u001b[0;34m()\u001b[0m\n\u001b[1;32m      3\u001b[0m     \u001b[0;32mreturn\u001b[0m \u001b[0mkinetic\u001b[0m\u001b[0;34m.\u001b[0m\u001b[0mto\u001b[0m\u001b[0;34m(\u001b[0m\u001b[0mu\u001b[0m\u001b[0;34m.\u001b[0m\u001b[0mjoule\u001b[0m\u001b[0;34m,\u001b[0m\u001b[0mequivalencies\u001b[0m\u001b[0;34m=\u001b[0m\u001b[0mu\u001b[0m\u001b[0;34m.\u001b[0m\u001b[0mspectral\u001b[0m\u001b[0;34m(\u001b[0m\u001b[0;34m)\u001b[0m\u001b[0;34m)\u001b[0m\u001b[0;34m\u001b[0m\u001b[0m\n\u001b[1;32m      4\u001b[0m \u001b[0;34m\u001b[0m\u001b[0m\n\u001b[0;32m----> 5\u001b[0;31m \u001b[0mkinetic_energy\u001b[0m\u001b[0;34m(\u001b[0m\u001b[0;36m10\u001b[0m\u001b[0;34m)\u001b[0m\u001b[0;34m\u001b[0m\u001b[0m\n\u001b[0m",
      "\u001b[0;32m<ipython-input-125-2e0aa06f7ac4>\u001b[0m in \u001b[0;36mkinetic_energy\u001b[0;34m(v)\u001b[0m\n\u001b[1;32m      1\u001b[0m \u001b[0;32mdef\u001b[0m \u001b[0mkinetic_energy\u001b[0m\u001b[0;34m(\u001b[0m\u001b[0mv\u001b[0m\u001b[0;34m)\u001b[0m\u001b[0;34m:\u001b[0m\u001b[0;34m\u001b[0m\u001b[0m\n\u001b[1;32m      2\u001b[0m     \u001b[0mkinetic\u001b[0m\u001b[0;34m=\u001b[0m\u001b[0mmass\u001b[0m\u001b[0;34m*\u001b[0m\u001b[0mu\u001b[0m\u001b[0;34m.\u001b[0m\u001b[0mkg\u001b[0m\u001b[0;34m*\u001b[0m\u001b[0mv\u001b[0m\u001b[0;34m**\u001b[0m\u001b[0;36m2\u001b[0m\u001b[0;34m*\u001b[0m\u001b[0mu\u001b[0m\u001b[0;34m.\u001b[0m\u001b[0mm\u001b[0m\u001b[0;34m/\u001b[0m\u001b[0mu\u001b[0m\u001b[0;34m.\u001b[0m\u001b[0ms\u001b[0m\u001b[0;34m\u001b[0m\u001b[0m\n\u001b[0;32m----> 3\u001b[0;31m     \u001b[0;32mreturn\u001b[0m \u001b[0mkinetic\u001b[0m\u001b[0;34m.\u001b[0m\u001b[0mto\u001b[0m\u001b[0;34m(\u001b[0m\u001b[0mu\u001b[0m\u001b[0;34m.\u001b[0m\u001b[0mjoule\u001b[0m\u001b[0;34m,\u001b[0m\u001b[0mequivalencies\u001b[0m\u001b[0;34m=\u001b[0m\u001b[0mu\u001b[0m\u001b[0;34m.\u001b[0m\u001b[0mspectral\u001b[0m\u001b[0;34m(\u001b[0m\u001b[0;34m)\u001b[0m\u001b[0;34m)\u001b[0m\u001b[0;34m\u001b[0m\u001b[0m\n\u001b[0m\u001b[1;32m      4\u001b[0m \u001b[0;34m\u001b[0m\u001b[0m\n\u001b[1;32m      5\u001b[0m \u001b[0mkinetic_energy\u001b[0m\u001b[0;34m(\u001b[0m\u001b[0;36m10\u001b[0m\u001b[0;34m)\u001b[0m\u001b[0;34m\u001b[0m\u001b[0m\n",
      "\u001b[0;32m~/anaconda3/lib/python3.6/site-packages/astropy/units/quantity.py\u001b[0m in \u001b[0;36mto\u001b[0;34m(self, unit, equivalencies)\u001b[0m\n\u001b[1;32m    845\u001b[0m         \u001b[0;31m# and don't want to slow down this method (esp. the scalar case).\u001b[0m\u001b[0;34m\u001b[0m\u001b[0;34m\u001b[0m\u001b[0m\n\u001b[1;32m    846\u001b[0m         \u001b[0munit\u001b[0m \u001b[0;34m=\u001b[0m \u001b[0mUnit\u001b[0m\u001b[0;34m(\u001b[0m\u001b[0munit\u001b[0m\u001b[0;34m)\u001b[0m\u001b[0;34m\u001b[0m\u001b[0m\n\u001b[0;32m--> 847\u001b[0;31m         \u001b[0;32mreturn\u001b[0m \u001b[0mself\u001b[0m\u001b[0;34m.\u001b[0m\u001b[0m_new_view\u001b[0m\u001b[0;34m(\u001b[0m\u001b[0mself\u001b[0m\u001b[0;34m.\u001b[0m\u001b[0m_to_value\u001b[0m\u001b[0;34m(\u001b[0m\u001b[0munit\u001b[0m\u001b[0;34m,\u001b[0m \u001b[0mequivalencies\u001b[0m\u001b[0;34m)\u001b[0m\u001b[0;34m,\u001b[0m \u001b[0munit\u001b[0m\u001b[0;34m)\u001b[0m\u001b[0;34m\u001b[0m\u001b[0m\n\u001b[0m\u001b[1;32m    848\u001b[0m \u001b[0;34m\u001b[0m\u001b[0m\n\u001b[1;32m    849\u001b[0m     \u001b[0;32mdef\u001b[0m \u001b[0mto_value\u001b[0m\u001b[0;34m(\u001b[0m\u001b[0mself\u001b[0m\u001b[0;34m,\u001b[0m \u001b[0munit\u001b[0m\u001b[0;34m=\u001b[0m\u001b[0;32mNone\u001b[0m\u001b[0;34m,\u001b[0m \u001b[0mequivalencies\u001b[0m\u001b[0;34m=\u001b[0m\u001b[0;34m[\u001b[0m\u001b[0;34m]\u001b[0m\u001b[0;34m)\u001b[0m\u001b[0;34m:\u001b[0m\u001b[0;34m\u001b[0m\u001b[0m\n",
      "\u001b[0;32m~/anaconda3/lib/python3.6/site-packages/astropy/units/quantity.py\u001b[0m in \u001b[0;36m_to_value\u001b[0;34m(self, unit, equivalencies)\u001b[0m\n\u001b[1;32m    817\u001b[0m             \u001b[0mequivalencies\u001b[0m \u001b[0;34m=\u001b[0m \u001b[0mself\u001b[0m\u001b[0;34m.\u001b[0m\u001b[0m_equivalencies\u001b[0m\u001b[0;34m\u001b[0m\u001b[0m\n\u001b[1;32m    818\u001b[0m         return self.unit.to(unit, self.view(np.ndarray),\n\u001b[0;32m--> 819\u001b[0;31m                             equivalencies=equivalencies)\n\u001b[0m\u001b[1;32m    820\u001b[0m \u001b[0;34m\u001b[0m\u001b[0m\n\u001b[1;32m    821\u001b[0m     \u001b[0;32mdef\u001b[0m \u001b[0mto\u001b[0m\u001b[0;34m(\u001b[0m\u001b[0mself\u001b[0m\u001b[0;34m,\u001b[0m \u001b[0munit\u001b[0m\u001b[0;34m,\u001b[0m \u001b[0mequivalencies\u001b[0m\u001b[0;34m=\u001b[0m\u001b[0;34m[\u001b[0m\u001b[0;34m]\u001b[0m\u001b[0;34m)\u001b[0m\u001b[0;34m:\u001b[0m\u001b[0;34m\u001b[0m\u001b[0m\n",
      "\u001b[0;32m~/anaconda3/lib/python3.6/site-packages/astropy/units/core.py\u001b[0m in \u001b[0;36mto\u001b[0;34m(self, other, value, equivalencies)\u001b[0m\n\u001b[1;32m    963\u001b[0m             \u001b[0mIf\u001b[0m \u001b[0munits\u001b[0m \u001b[0mare\u001b[0m \u001b[0minconsistent\u001b[0m\u001b[0;34m\u001b[0m\u001b[0m\n\u001b[1;32m    964\u001b[0m         \"\"\"\n\u001b[0;32m--> 965\u001b[0;31m         \u001b[0;32mreturn\u001b[0m \u001b[0mself\u001b[0m\u001b[0;34m.\u001b[0m\u001b[0m_get_converter\u001b[0m\u001b[0;34m(\u001b[0m\u001b[0mother\u001b[0m\u001b[0;34m,\u001b[0m \u001b[0mequivalencies\u001b[0m\u001b[0;34m=\u001b[0m\u001b[0mequivalencies\u001b[0m\u001b[0;34m)\u001b[0m\u001b[0;34m(\u001b[0m\u001b[0mvalue\u001b[0m\u001b[0;34m)\u001b[0m\u001b[0;34m\u001b[0m\u001b[0m\n\u001b[0m\u001b[1;32m    966\u001b[0m \u001b[0;34m\u001b[0m\u001b[0m\n\u001b[1;32m    967\u001b[0m     \u001b[0;32mdef\u001b[0m \u001b[0min_units\u001b[0m\u001b[0;34m(\u001b[0m\u001b[0mself\u001b[0m\u001b[0;34m,\u001b[0m \u001b[0mother\u001b[0m\u001b[0;34m,\u001b[0m \u001b[0mvalue\u001b[0m\u001b[0;34m=\u001b[0m\u001b[0;36m1.0\u001b[0m\u001b[0;34m,\u001b[0m \u001b[0mequivalencies\u001b[0m\u001b[0;34m=\u001b[0m\u001b[0;34m[\u001b[0m\u001b[0;34m]\u001b[0m\u001b[0;34m)\u001b[0m\u001b[0;34m:\u001b[0m\u001b[0;34m\u001b[0m\u001b[0m\n",
      "\u001b[0;32m~/anaconda3/lib/python3.6/site-packages/astropy/units/core.py\u001b[0m in \u001b[0;36m_get_converter\u001b[0;34m(self, other, equivalencies)\u001b[0m\n\u001b[1;32m    897\u001b[0m                             \u001b[0;32mpass\u001b[0m\u001b[0;34m\u001b[0m\u001b[0m\n\u001b[1;32m    898\u001b[0m \u001b[0;34m\u001b[0m\u001b[0m\n\u001b[0;32m--> 899\u001b[0;31m             \u001b[0;32mraise\u001b[0m \u001b[0mexc\u001b[0m\u001b[0;34m\u001b[0m\u001b[0m\n\u001b[0m\u001b[1;32m    900\u001b[0m \u001b[0;34m\u001b[0m\u001b[0m\n\u001b[1;32m    901\u001b[0m     \u001b[0;32mdef\u001b[0m \u001b[0m_to\u001b[0m\u001b[0;34m(\u001b[0m\u001b[0mself\u001b[0m\u001b[0;34m,\u001b[0m \u001b[0mother\u001b[0m\u001b[0;34m)\u001b[0m\u001b[0;34m:\u001b[0m\u001b[0;34m\u001b[0m\u001b[0m\n",
      "\u001b[0;32m~/anaconda3/lib/python3.6/site-packages/astropy/units/core.py\u001b[0m in \u001b[0;36m_get_converter\u001b[0;34m(self, other, equivalencies)\u001b[0m\n\u001b[1;32m    883\u001b[0m         \u001b[0;32mtry\u001b[0m\u001b[0;34m:\u001b[0m\u001b[0;34m\u001b[0m\u001b[0m\n\u001b[1;32m    884\u001b[0m             return self._apply_equivalencies(\n\u001b[0;32m--> 885\u001b[0;31m                 self, other, self._normalize_equivalencies(equivalencies))\n\u001b[0m\u001b[1;32m    886\u001b[0m         \u001b[0;32mexcept\u001b[0m \u001b[0mUnitsError\u001b[0m \u001b[0;32mas\u001b[0m \u001b[0mexc\u001b[0m\u001b[0;34m:\u001b[0m\u001b[0;34m\u001b[0m\u001b[0m\n\u001b[1;32m    887\u001b[0m             \u001b[0;31m# Last hope: maybe other knows how to do it?\u001b[0m\u001b[0;34m\u001b[0m\u001b[0;34m\u001b[0m\u001b[0m\n",
      "\u001b[0;32m~/anaconda3/lib/python3.6/site-packages/astropy/units/core.py\u001b[0m in \u001b[0;36m_apply_equivalencies\u001b[0;34m(self, unit, other, equivalencies)\u001b[0m\n\u001b[1;32m    867\u001b[0m         raise UnitConversionError(\n\u001b[1;32m    868\u001b[0m             \"{0} and {1} are not convertible\".format(\n\u001b[0;32m--> 869\u001b[0;31m                 unit_str, other_str))\n\u001b[0m\u001b[1;32m    870\u001b[0m \u001b[0;34m\u001b[0m\u001b[0m\n\u001b[1;32m    871\u001b[0m     \u001b[0;32mdef\u001b[0m \u001b[0m_get_converter\u001b[0m\u001b[0;34m(\u001b[0m\u001b[0mself\u001b[0m\u001b[0;34m,\u001b[0m \u001b[0mother\u001b[0m\u001b[0;34m,\u001b[0m \u001b[0mequivalencies\u001b[0m\u001b[0;34m=\u001b[0m\u001b[0;34m[\u001b[0m\u001b[0;34m]\u001b[0m\u001b[0;34m)\u001b[0m\u001b[0;34m:\u001b[0m\u001b[0;34m\u001b[0m\u001b[0m\n",
      "\u001b[0;31mUnitConversionError\u001b[0m: 'kg m / s' (momentum/impulse) and 'J' (energy) are not convertible"
     ]
    }
   ],
   "source": [
    "\n",
    "#Function that computes the kinetic energy of a body for a particular velocity\n",
    "\n",
    "def kinetic_energy(v):\n",
    "    kinetic=mass*u.kg*v**2*u.m/u.s\n",
    "    return kinetic.to(u.joule,equivalencies=u.spectral())\n",
    "\n",
    "kinetic_energy(10)"
   ]
  },
  {
   "cell_type": "code",
   "execution_count": null,
   "metadata": {},
   "outputs": [],
   "source": []
  },
  {
   "cell_type": "markdown",
   "metadata": {},
   "source": [
    "## Create your own units\n",
    "\n",
    "Some times we want to create our own units:"
   ]
  },
  {
   "cell_type": "code",
   "execution_count": null,
   "metadata": {},
   "outputs": [],
   "source": []
  },
  {
   "cell_type": "markdown",
   "metadata": {},
   "source": [
    "\n",
    "<section class=\"challenge panel panel-success\">\n",
    "<div class=\"panel-heading\">\n",
    "<h2><span class=\"fa fa-pencil\"></span> Area with units</h2>\n",
    "</div>\n",
    "\n",
    "\n",
    "<div class=\"panel-body\">\n",
    "\n",
    "<ol>\n",
    "<li>Convert the area calculated before <code>rectangle_area</code> in <a href=\"https://en.wikipedia.org/wiki/Hectare\">hectares</a> (1 hectare = 100 ares; 1 are = 100 $m^2$).</li>\n",
    "</ol>\n",
    "\n",
    "</div>\n",
    "\n",
    "</section>\n"
   ]
  },
  {
   "cell_type": "code",
   "execution_count": null,
   "metadata": {},
   "outputs": [],
   "source": []
  }
 ],
 "metadata": {
  "kernelspec": {
   "display_name": "Python 3",
   "language": "python",
   "name": "python3"
  },
  "language_info": {
   "codemirror_mode": {
    "name": "ipython",
    "version": 3
   },
   "file_extension": ".py",
   "mimetype": "text/x-python",
   "name": "python",
   "nbconvert_exporter": "python",
   "pygments_lexer": "ipython3",
   "version": "3.6.5"
  }
 },
 "nbformat": 4,
 "nbformat_minor": 1
}
